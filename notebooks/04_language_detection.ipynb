{
 "cells": [
  {
   "cell_type": "markdown",
   "id": "d71634d9",
   "metadata": {},
   "source": [
    "# Language Detection\n",
    "In the previous notebook, we found that a significant number of records are missing a stated *language* within the record. Additionally, we found in our work in Phase 1 it is not uncommon for the stated language of the record to be inaccurate. This could be for a variety of reasons: lack of clarity as to what *language* is actually referring to (i.e. the language of the item, container, or the metadata record itself), perhaps some level of increased discoverability if the work is labeled with **en** (English).\n",
    "\n",
    "To examine these issues more closely, we will detect the languages used within the records, compare that against theior stated languages, and see any patterns that emerge.\n",
    "\n",
    "First we will import several of the necessary packages, set up our directory, and import our data."
   ]
  },
  {
   "cell_type": "code",
   "execution_count": 22,
   "id": "de202e86",
   "metadata": {},
   "outputs": [],
   "source": [
    "import seaborn as sns # data visualizations\n",
    "from pathlib import Path\n",
    "import numpy as np\n",
    "import pandas as pd #Creating dataframe and manipulating data\n",
    "from py3langid.langid import LanguageIdentifier, MODEL_FILE\n",
    "from matplotlib import pyplot as plt"
   ]
  },
  {
   "cell_type": "code",
   "execution_count": 23,
   "id": "a8693e3b",
   "metadata": {},
   "outputs": [],
   "source": [
    "# Data Directory\n",
    "data_dir = Path('../data')\n",
    "input_dir = data_dir / 'input'\n",
    "output_dir = data_dir / 'output'\n",
    "# Loading in dataset\n",
    "df = pd.read_csv(output_dir / '03_labeled_data.csv', parse_dates=['created', 'deposited'],\n",
    "                 infer_datetime_format=True, index_col = 'Index')"
   ]
  },
  {
   "cell_type": "markdown",
   "id": "d5099b7d",
   "metadata": {},
   "source": [
    "## Publisher Bins\n",
    "Not all publishers are of the same size, obviously. Thus it makes it difficult to draw any meaningful comparisons between Elsevier BV (*n* = 19377) and, for instance, the South African National Biodiversity Institute (*n* = 5). So while we cannot have multiple large publishers such as Elsevier BV, we can group publishers to create bins of similar size and make comparisons between the publisher sizes.\n",
    "\n",
    "We will create five bins, or groups, with each bin having ~20000 records. The `XS` bin has publishers who have 0 to 75 records in the dataset, `S`: 76-1000, `M`:1001-5000, `L`:5001-10000 (this bin is comprised of Springer and Wiley exclusively), `XL`:10000+ (Elsevier BV exclusively)."
   ]
  },
  {
   "cell_type": "code",
   "execution_count": 24,
   "id": "30a4aefe",
   "metadata": {},
   "outputs": [
    {
     "data": {
      "text/plain": [
       "XS    20761\n",
       "M     20749\n",
       "S     20420\n",
       "XL    19604\n",
       "L     18443\n",
       "Name: publisher_bin, dtype: int64"
      ]
     },
     "execution_count": 24,
     "metadata": {},
     "output_type": "execute_result"
    }
   ],
   "source": [
    "pub_count = df.publisher.value_counts()\n",
    "cut_bins = pd.cut(pub_count, bins=[0,75,1000,5000,10050,20000], labels=['XS','S','M','L','XL'])\n",
    "def bin_applicator(record):\n",
    "    try:\n",
    "        pub = record['publisher']\n",
    "        locator = cut_bins.loc[cut_bins.index == pub]\n",
    "        locList = locator.to_list()\n",
    "        return locList[0]\n",
    "    except:\n",
    "        return None\n",
    "df['publisher_bin'] = df.apply(bin_applicator, axis=1)\n",
    "df.publisher_bin.value_counts()"
   ]
  },
  {
   "cell_type": "markdown",
   "id": "bc39dc35",
   "metadata": {},
   "source": [
    "## Detecting Languages\n",
    "We'll use `py3langid` as we did previously, with the same language list as before. While `py3langid` is optomized for python3 and is several times faster than the original, it is important to note that due to the nature of the language detection we will be doing, it may take a minute or two, but no longer than that. We will check each record across three fields, *abstract*, *title*, and *container-title*. These are the fields that have some of the most text, and thus can give us the most confident results. We'll set a probability threshold of `.9` to help insure that we are only saying a language is present when the model is very confident.\n",
    "\n",
    "### Matching\n",
    "After detecting the langauge used in the records, we will then see if the `detected_lang` matches the record's stated *language*. In doing this we will label the record with a `0` if the stated language matches detected language, `1` if the stated language **does not** match detected language), or `2` if the multiple detected languages, but one of the detected languages matches the stated language). \n",
    "\n",
    "### Language Type\n",
    "Finally, we will apply an additional code to each record: `0` if the detected language is English, `1` if the detected language is any single non-english language, `2` for multilingual records."
   ]
  },
  {
   "cell_type": "code",
   "execution_count": 25,
   "id": "a7310411",
   "metadata": {},
   "outputs": [
    {
     "data": {
      "text/plain": [
       "71"
      ]
     },
     "execution_count": 25,
     "metadata": {},
     "output_type": "execute_result"
    }
   ],
   "source": [
    "identifier = LanguageIdentifier.from_pickled_model(MODEL_FILE, norm_probs = True)\n",
    "lang_list = ['af', 'am', 'ar', 'as', 'az', 'be', 'bg', 'bn', 'br', \n",
    "             'bs', 'ca', 'cs', 'cy', 'da', 'de', 'dz', 'el', 'en', 'eo', \n",
    "             'es', 'et', 'eu', 'fa', 'fi', 'fo', 'fr', 'ga', 'gl', 'gu', \n",
    "             'he', 'hi', 'hr', 'ht', 'hu', 'hy', 'is', 'it', 'ja', 'jv', \n",
    "             'ka', 'kk', 'km', 'kn', 'ko', 'ku', 'ky', 'la', 'lb', 'lo', \n",
    "             'lt', 'lv', 'mg', 'mk', 'ml', 'mn', 'mr', 'ms', 'mt', 'ne', \n",
    "             'nl', 'no', 'oc', 'or', 'pa', 'pl', 'ps', 'pt', 'qu', 'ro', \n",
    "             'ru', 'rw', 'se', 'si', 'sk', 'sl', 'sq', 'sr', 'sv', 'sw', \n",
    "             'ta', 'te', 'th', 'tl', 'tr', 'ug', 'uk', 'ur', 'vi', 'vo', \n",
    "             'wa', 'xh', 'zh', 'zu']\n",
    "identifier.set_languages(langs=lang_list)\n",
    "# Check across multiple fields within each record for the languages present.\n",
    "def record_lang_checker(record):\n",
    "    #These fields have the most text which will provide the most accurate language detection\n",
    "    fields = ['abstract', 'title', 'container-title']\n",
    "    lang_list = []\n",
    "    for col in fields:\n",
    "        try:\n",
    "            detect = identifier.classify(record[col].lower())\n",
    "            # Setting a .9 probability threshold for asserting the language is indeed in the record, lower probability increases the chances of a false detection\n",
    "            if detect[1] > .9:\n",
    "                lang_list.append(detect[0])\n",
    "            else:\n",
    "                pass\n",
    "        except:\n",
    "            pass\n",
    "    #If no language is detected, return None\n",
    "    if len(lang_list) == 0:\n",
    "        return None\n",
    "    else:\n",
    "        #Returning all of the detected languages for each record\n",
    "        return list(set(lang_list))\n",
    "df['detected_lang'] = df.apply(record_lang_checker, axis=1)\n",
    "detected_languages = df.explode('detected_lang')\n",
    "detected_languages.detected_lang.nunique()"
   ]
  },
  {
   "cell_type": "code",
   "execution_count": 26,
   "id": "0edf5f28",
   "metadata": {},
   "outputs": [
    {
     "data": {
      "text/plain": [
       "0.0    71731\n",
       "1.0    21859\n",
       "2.0     3508\n",
       "Name: lang_match, dtype: int64"
      ]
     },
     "execution_count": 26,
     "metadata": {},
     "output_type": "execute_result"
    }
   ],
   "source": [
    "def detection_match(record):\n",
    "    try:\n",
    "        #Filtering out records with no stated language\n",
    "        if record['language'] == np.nan:\n",
    "            return 1\n",
    "        else:\n",
    "            #checking if stated language matches detected language\n",
    "            if record['language'] in record['detected_lang']:\n",
    "                #Stated language is within the detected languages, but there are multiple languages\n",
    "                #present in the record\n",
    "                if len(record['detected_lang']) > 1:\n",
    "                    return 2\n",
    "                #Stated language matches detected language\n",
    "                else:\n",
    "                    return 0\n",
    "            #Stated and detected languages do not match\n",
    "            else:\n",
    "                return 1\n",
    "    except:\n",
    "        return None\n",
    "df['lang_match'] = df.apply(detection_match, axis=1)\n",
    "df.lang_match.value_counts()"
   ]
  },
  {
   "cell_type": "code",
   "execution_count": 27,
   "id": "f6c1ddae",
   "metadata": {},
   "outputs": [
    {
     "data": {
      "text/plain": [
       "0.0    82058\n",
       "1.0     9087\n",
       "2.0     5953\n",
       "Name: lang_type, dtype: int64"
      ]
     },
     "execution_count": 27,
     "metadata": {},
     "output_type": "execute_result"
    }
   ],
   "source": [
    "def lang_type(record):\n",
    "    try:\n",
    "        #Checking the monolingual records if they are english or non-english\n",
    "        if len(record['detected_lang']) == 1:\n",
    "            if record['detected_lang'][0] == 'en':\n",
    "                return 0\n",
    "            else:\n",
    "                return 1\n",
    "        else:\n",
    "            #Multilingual records\n",
    "            if len(record['detected_lang']) > 1:\n",
    "                return 2\n",
    "            else:\n",
    "                return None\n",
    "    except:\n",
    "        return None\n",
    "\n",
    "df['lang_type'] = df.apply(lang_type, axis=1)\n",
    "df.lang_type.value_counts()"
   ]
  },
  {
   "cell_type": "markdown",
   "id": "0ed665ee",
   "metadata": {},
   "source": [
    "## Differences in Errors Between Language Types\n",
    "After detecting the languages and coding the records, we can see that there are a large number of records in which the `detected_lang` does not match the stated language. One possible explanation is the high number of records that simply do not have a stated language. We will explore this below.\n",
    "\n",
    "Additionally, we can see that English is the predominant language of the dataset. Next, we'll take a look at errors per record in regards to the different language types: English-monolingual, Non-English-monolingual, and Multilingual.\n",
    "\n",
    "First, we'll take a look at the number of errors per language."
   ]
  },
  {
   "cell_type": "code",
   "execution_count": 28,
   "id": "c3c50973",
   "metadata": {},
   "outputs": [
    {
     "data": {
      "text/html": [
       "<div>\n",
       "<style scoped>\n",
       "    .dataframe tbody tr th:only-of-type {\n",
       "        vertical-align: middle;\n",
       "    }\n",
       "\n",
       "    .dataframe tbody tr th {\n",
       "        vertical-align: top;\n",
       "    }\n",
       "\n",
       "    .dataframe thead th {\n",
       "        text-align: right;\n",
       "    }\n",
       "</style>\n",
       "<table border=\"1\" class=\"dataframe\">\n",
       "  <thead>\n",
       "    <tr style=\"text-align: right;\">\n",
       "      <th></th>\n",
       "      <th>total_errors</th>\n",
       "      <th>DOI</th>\n",
       "    </tr>\n",
       "    <tr>\n",
       "      <th>detected_lang</th>\n",
       "      <th></th>\n",
       "      <th></th>\n",
       "    </tr>\n",
       "  </thead>\n",
       "  <tbody>\n",
       "    <tr>\n",
       "      <th>en</th>\n",
       "      <td>44749.0</td>\n",
       "      <td>87302</td>\n",
       "    </tr>\n",
       "    <tr>\n",
       "      <th>de</th>\n",
       "      <td>3746.0</td>\n",
       "      <td>4015</td>\n",
       "    </tr>\n",
       "    <tr>\n",
       "      <th>fr</th>\n",
       "      <td>2555.0</td>\n",
       "      <td>3358</td>\n",
       "    </tr>\n",
       "    <tr>\n",
       "      <th>es</th>\n",
       "      <td>1671.0</td>\n",
       "      <td>1664</td>\n",
       "    </tr>\n",
       "    <tr>\n",
       "      <th>pt</th>\n",
       "      <td>1414.0</td>\n",
       "      <td>1327</td>\n",
       "    </tr>\n",
       "    <tr>\n",
       "      <th>ms</th>\n",
       "      <td>1164.0</td>\n",
       "      <td>913</td>\n",
       "    </tr>\n",
       "    <tr>\n",
       "      <th>it</th>\n",
       "      <td>566.0</td>\n",
       "      <td>622</td>\n",
       "    </tr>\n",
       "    <tr>\n",
       "      <th>nl</th>\n",
       "      <td>442.0</td>\n",
       "      <td>529</td>\n",
       "    </tr>\n",
       "    <tr>\n",
       "      <th>ru</th>\n",
       "      <td>831.0</td>\n",
       "      <td>418</td>\n",
       "    </tr>\n",
       "    <tr>\n",
       "      <th>ar</th>\n",
       "      <td>474.0</td>\n",
       "      <td>300</td>\n",
       "    </tr>\n",
       "    <tr>\n",
       "      <th>tr</th>\n",
       "      <td>319.0</td>\n",
       "      <td>280</td>\n",
       "    </tr>\n",
       "    <tr>\n",
       "      <th>pl</th>\n",
       "      <td>356.0</td>\n",
       "      <td>273</td>\n",
       "    </tr>\n",
       "    <tr>\n",
       "      <th>fi</th>\n",
       "      <td>155.0</td>\n",
       "      <td>165</td>\n",
       "    </tr>\n",
       "    <tr>\n",
       "      <th>la</th>\n",
       "      <td>137.0</td>\n",
       "      <td>160</td>\n",
       "    </tr>\n",
       "    <tr>\n",
       "      <th>et</th>\n",
       "      <td>74.0</td>\n",
       "      <td>153</td>\n",
       "    </tr>\n",
       "    <tr>\n",
       "      <th>zh</th>\n",
       "      <td>337.0</td>\n",
       "      <td>145</td>\n",
       "    </tr>\n",
       "    <tr>\n",
       "      <th>uk</th>\n",
       "      <td>233.0</td>\n",
       "      <td>117</td>\n",
       "    </tr>\n",
       "    <tr>\n",
       "      <th>da</th>\n",
       "      <td>117.0</td>\n",
       "      <td>103</td>\n",
       "    </tr>\n",
       "    <tr>\n",
       "      <th>ja</th>\n",
       "      <td>192.0</td>\n",
       "      <td>100</td>\n",
       "    </tr>\n",
       "    <tr>\n",
       "      <th>sv</th>\n",
       "      <td>76.0</td>\n",
       "      <td>85</td>\n",
       "    </tr>\n",
       "  </tbody>\n",
       "</table>\n",
       "</div>"
      ],
      "text/plain": [
       "               total_errors    DOI\n",
       "detected_lang                     \n",
       "en                  44749.0  87302\n",
       "de                   3746.0   4015\n",
       "fr                   2555.0   3358\n",
       "es                   1671.0   1664\n",
       "pt                   1414.0   1327\n",
       "ms                   1164.0    913\n",
       "it                    566.0    622\n",
       "nl                    442.0    529\n",
       "ru                    831.0    418\n",
       "ar                    474.0    300\n",
       "tr                    319.0    280\n",
       "pl                    356.0    273\n",
       "fi                    155.0    165\n",
       "la                    137.0    160\n",
       "et                     74.0    153\n",
       "zh                    337.0    145\n",
       "uk                    233.0    117\n",
       "da                    117.0    103\n",
       "ja                    192.0    100\n",
       "sv                     76.0     85"
      ]
     },
     "execution_count": 28,
     "metadata": {},
     "output_type": "execute_result"
    }
   ],
   "source": [
    "grouped_langs = detected_languages.groupby('detected_lang')\n",
    "group_total_errors = grouped_langs.agg({'total_errors': 'sum', 'DOI': 'count'}).sort_values(by='DOI', ascending=False)\n",
    "group_total_errors[:20]"
   ]
  },
  {
   "cell_type": "code",
   "execution_count": 29,
   "id": "46d58b5f",
   "metadata": {},
   "outputs": [
    {
     "data": {
      "text/plain": [
       "<AxesSubplot: xlabel='detected_lang', ylabel='total_errors'>"
      ]
     },
     "execution_count": 29,
     "metadata": {},
     "output_type": "execute_result"
    },
    {
     "data": {
      "image/png": "[encoded data removed]",
      "text/plain": [
       "<Figure size 432x288 with 1 Axes>"
      ]
     },
     "metadata": {},
     "output_type": "display_data"
    }
   ],
   "source": [
    "top_20 = group_total_errors.sort_values(by='total_errors', ascending=False)[:20]\n",
    "t20plt = sns.barplot(data=top_20, x=top_20.index, y='total_errors')\n",
    "t20plt.set_xticklabels(t20plt.get_xticklabels(), rotation=40, ha='right', fontsize=10)\n",
    "t20plt"
   ]
  },
  {
   "cell_type": "code",
   "execution_count": 30,
   "id": "8e961205",
   "metadata": {},
   "outputs": [
    {
     "data": {
      "text/plain": [
       "<AxesSubplot: xlabel='detected_lang', ylabel='total_errors'>"
      ]
     },
     "execution_count": 30,
     "metadata": {},
     "output_type": "execute_result"
    },
    {
     "data": {
      "image/png": "[encoded data removed]",
      "text/plain": [
       "<Figure size 432x288 with 1 Axes>"
      ]
     },
     "metadata": {},
     "output_type": "display_data"
    }
   ],
   "source": [
    "#Now we'll remove English, to better visualize other languages\n",
    "no_en = group_total_errors.drop('en')\n",
    "top_20 = no_en.sort_values(by='total_errors', ascending=False)[:20]\n",
    "t20plt = sns.barplot(data=top_20, x=top_20.index, y='total_errors')\n",
    "t20plt.set_xticklabels(t20plt.get_xticklabels(), rotation=40, ha='right', fontsize=10)\n",
    "t20plt"
   ]
  },
  {
   "cell_type": "code",
   "execution_count": 31,
   "id": "35c06e52",
   "metadata": {},
   "outputs": [
    {
     "data": {
      "text/html": [
       "<div>\n",
       "<style scoped>\n",
       "    .dataframe tbody tr th:only-of-type {\n",
       "        vertical-align: middle;\n",
       "    }\n",
       "\n",
       "    .dataframe tbody tr th {\n",
       "        vertical-align: top;\n",
       "    }\n",
       "\n",
       "    .dataframe thead th {\n",
       "        text-align: right;\n",
       "    }\n",
       "</style>\n",
       "<table border=\"1\" class=\"dataframe\">\n",
       "  <thead>\n",
       "    <tr style=\"text-align: right;\">\n",
       "      <th></th>\n",
       "      <th>total_errors</th>\n",
       "      <th>DOI</th>\n",
       "    </tr>\n",
       "    <tr>\n",
       "      <th>detected_lang</th>\n",
       "      <th></th>\n",
       "      <th></th>\n",
       "    </tr>\n",
       "  </thead>\n",
       "  <tbody>\n",
       "    <tr>\n",
       "      <th>hi</th>\n",
       "      <td>3.000000</td>\n",
       "      <td>1</td>\n",
       "    </tr>\n",
       "    <tr>\n",
       "      <th>zh</th>\n",
       "      <td>2.324138</td>\n",
       "      <td>145</td>\n",
       "    </tr>\n",
       "    <tr>\n",
       "      <th>sr</th>\n",
       "      <td>2.047619</td>\n",
       "      <td>21</td>\n",
       "    </tr>\n",
       "    <tr>\n",
       "      <th>be</th>\n",
       "      <td>2.000000</td>\n",
       "      <td>1</td>\n",
       "    </tr>\n",
       "    <tr>\n",
       "      <th>he</th>\n",
       "      <td>2.000000</td>\n",
       "      <td>1</td>\n",
       "    </tr>\n",
       "    <tr>\n",
       "      <th>...</th>\n",
       "      <td>...</td>\n",
       "      <td>...</td>\n",
       "    </tr>\n",
       "    <tr>\n",
       "      <th>br</th>\n",
       "      <td>0.625000</td>\n",
       "      <td>8</td>\n",
       "    </tr>\n",
       "    <tr>\n",
       "      <th>ht</th>\n",
       "      <td>0.555556</td>\n",
       "      <td>18</td>\n",
       "    </tr>\n",
       "    <tr>\n",
       "      <th>en</th>\n",
       "      <td>0.512577</td>\n",
       "      <td>87302</td>\n",
       "    </tr>\n",
       "    <tr>\n",
       "      <th>cy</th>\n",
       "      <td>0.500000</td>\n",
       "      <td>28</td>\n",
       "    </tr>\n",
       "    <tr>\n",
       "      <th>et</th>\n",
       "      <td>0.483660</td>\n",
       "      <td>153</td>\n",
       "    </tr>\n",
       "  </tbody>\n",
       "</table>\n",
       "<p>71 rows × 2 columns</p>\n",
       "</div>"
      ],
      "text/plain": [
       "               total_errors    DOI\n",
       "detected_lang                     \n",
       "hi                 3.000000      1\n",
       "zh                 2.324138    145\n",
       "sr                 2.047619     21\n",
       "be                 2.000000      1\n",
       "he                 2.000000      1\n",
       "...                     ...    ...\n",
       "br                 0.625000      8\n",
       "ht                 0.555556     18\n",
       "en                 0.512577  87302\n",
       "cy                 0.500000     28\n",
       "et                 0.483660    153\n",
       "\n",
       "[71 rows x 2 columns]"
      ]
     },
     "execution_count": 31,
     "metadata": {},
     "output_type": "execute_result"
    }
   ],
   "source": [
    "#Now we'll change from total errors, to the mean number of errors by language\n",
    "group_avg_errors = grouped_langs.agg({'total_errors': 'mean', 'DOI': 'count'}).sort_values(by='total_errors', ascending=False)\n",
    "group_avg_errors"
   ]
  },
  {
   "cell_type": "code",
   "execution_count": 32,
   "id": "45e96bc6",
   "metadata": {},
   "outputs": [
    {
     "data": {
      "text/plain": [
       "<AxesSubplot: xlabel='detected_lang', ylabel='total_errors'>"
      ]
     },
     "execution_count": 32,
     "metadata": {},
     "output_type": "execute_result"
    },
    {
     "data": {
      "image/png": "[encoded data removed]",
      "text/plain": [
       "<Figure size 432x288 with 1 Axes>"
      ]
     },
     "metadata": {},
     "output_type": "display_data"
    }
   ],
   "source": [
    "#We'll remove the languages with only a couple of records\n",
    "filtered = group_avg_errors.loc[group_avg_errors.DOI > 5].sort_values(by='total_errors', ascending=False)\n",
    "top_20 = filtered[:20]\n",
    "t20plt = sns.barplot(data=top_20, x=top_20.index, y='total_errors')\n",
    "t20plt.set_xticklabels(t20plt.get_xticklabels(), rotation=40, ha='right', fontsize=10)\n",
    "t20plt"
   ]
  },
  {
   "cell_type": "markdown",
   "id": "bc242425",
   "metadata": {},
   "source": [
    "### Individual Languages\n",
    "We see that, as mentioned, English is by far the most represented language in the dataset, and, consequently, has the most errors. Once removing english, we see that German (de), French (fr), Spanish (es), Portugese (pt), and Malay (ms) are the next top 5 in total errors, but that tends to be a reflection of the quantity of  in the dataset.\n",
    "\n",
    "However, when we look at the average (arithmetic mean) of the errors per language, we do see that there are a number of languages from the top 20 of total errors there:\n",
    "\n",
    "Chinese (zh), Russian (ru), Ukranian (uk), Bulgarian (bg), Japanese (ja), Arabic (ar).\n",
    "\n",
    "Now, we'll take a look at the differences between language types."
   ]
  },
  {
   "cell_type": "code",
   "execution_count": 33,
   "id": "b3a788fc",
   "metadata": {},
   "outputs": [],
   "source": [
    "multi = df.loc[df.lang_type == 2]\n",
    "non_english = df.loc[df.lang_type == 1]\n",
    "english = df.loc[df.lang_type == 0]"
   ]
  },
  {
   "cell_type": "code",
   "execution_count": 34,
   "id": "cee95d3e",
   "metadata": {},
   "outputs": [
    {
     "name": "stdout",
     "output_type": "stream",
     "text": [
      "0.49 errors per english, monolingual record\n",
      "1.04 errors per non-english, monolingual record\n",
      "0.97 errors per multilingual record\n"
     ]
    }
   ],
   "source": [
    "multi_error_rate = multi.total_errors.sum()/len(multi)\n",
    "eng_error_rate = english.total_errors.sum()/len(english)\n",
    "non_eng_error_rate = non_english.total_errors.sum()/len(non_english)\n",
    "\n",
    "print(\"{:0.2f} errors per english, monolingual record\".format(eng_error_rate))\n",
    "print(\"{:0.2f} errors per non-english, monolingual record\".format(non_eng_error_rate))\n",
    "print(\"{:0.2f} errors per multilingual record\".format(multi_error_rate))"
   ]
  },
  {
   "cell_type": "markdown",
   "id": "0507bb70",
   "metadata": {},
   "source": [
    "To visualize this data, we'll look at the error rates for each of these language types and break them up by their publisher bin.\n",
    "\n",
    "Then We'll take a look at any differences between the languages."
   ]
  },
  {
   "cell_type": "code",
   "execution_count": 35,
   "id": "a3d33941",
   "metadata": {},
   "outputs": [
    {
     "data": {
      "text/plain": [
       "<seaborn.axisgrid.FacetGrid at 0x2d1b427c8e0>"
      ]
     },
     "execution_count": 35,
     "metadata": {},
     "output_type": "execute_result"
    },
    {
     "data": {
      "image/png": "[encoded data removed]",
      "text/plain": [
       "<Figure size 230.4x288 with 1 Axes>"
      ]
     },
     "metadata": {},
     "output_type": "display_data"
    }
   ],
   "source": [
    "#Multilingual Records\n",
    "mlt = sns.catplot(data=multi,x='publisher_bin', y='total_errors', kind='bar', height=4, aspect=.8, order=['XS', 'S', 'M', 'L', 'XL'], errorbar=None)\n",
    "mlt.set_axis_labels('', 'Error per Record')\n",
    "mlt"
   ]
  },
  {
   "cell_type": "code",
   "execution_count": 36,
   "id": "560f2c5c",
   "metadata": {},
   "outputs": [
    {
     "data": {
      "text/plain": [
       "<seaborn.axisgrid.FacetGrid at 0x2d1b4197430>"
      ]
     },
     "execution_count": 36,
     "metadata": {},
     "output_type": "execute_result"
    },
    {
     "data": {
      "image/png": "[encoded data removed]",
      "text/plain": [
       "<Figure size 230.4x288 with 1 Axes>"
      ]
     },
     "metadata": {},
     "output_type": "display_data"
    }
   ],
   "source": [
    "#English Monolingual Records\n",
    "en_only = sns.catplot(data=english, x='publisher_bin', y='total_errors', kind='bar', height=4, aspect=.8, order=['XS', 'S', 'M', 'L', 'XL'], errorbar=None)\n",
    "en_only.set_axis_labels('', 'Error per Record')\n",
    "en_only"
   ]
  },
  {
   "cell_type": "code",
   "execution_count": 37,
   "id": "046f4033",
   "metadata": {},
   "outputs": [
    {
     "data": {
      "text/plain": [
       "<seaborn.axisgrid.FacetGrid at 0x2d1ac53d810>"
      ]
     },
     "execution_count": 37,
     "metadata": {},
     "output_type": "execute_result"
    },
    {
     "data": {
      "image/png": "[encoded data removed]",
      "text/plain": [
       "<Figure size 230.4x288 with 1 Axes>"
      ]
     },
     "metadata": {},
     "output_type": "display_data"
    }
   ],
   "source": [
    "#Non-English Monolingual Records\n",
    "non_en_plt = sns.catplot(data=non_english, x='publisher_bin', y='total_errors', kind='bar', height=4, aspect=.8, order=['XS', 'S', 'M', 'L', 'XL'], errorbar=None)\n",
    "non_en_plt.set_axis_labels('', 'Error per Record')\n",
    "non_en_plt"
   ]
  },
  {
   "cell_type": "markdown",
   "id": "44bcfb66",
   "metadata": {},
   "source": [
    "### Differences in Language Types\n",
    "We can see that the publisher bins generally change between groups in a similar fashion. The error rate for all seems to be highest in non-English monolingual records, and at its lowest in English monolingual records.\n",
    "\n",
    "Consistent throughout all groups the XS publisher bin has the highest error rate.\n",
    "\n",
    "Finally, we'll take a look to see any differences in the presence of a stated language between the language types."
   ]
  },
  {
   "cell_type": "code",
   "execution_count": 38,
   "id": "45ef3cfc",
   "metadata": {},
   "outputs": [
    {
     "name": "stdout",
     "output_type": "stream",
     "text": [
      "16.16% english, monolingual records with no stated language\n",
      "43.61% non_english, monolingual records with no stated language\n",
      "37.56% multilingual records with no stated language\n"
     ]
    }
   ],
   "source": [
    "multi_no_lang = (multi.language.isna().sum()/len(multi)) *100\n",
    "eng_no_lang = (english.language.isna().sum()/len(english)) *100\n",
    "non_eng_no_lang = (non_english.language.isna().sum()/len(non_english)) * 100\n",
    "\n",
    "print(\"{:0.2f}% english, monolingual records with no stated language\".format(eng_no_lang))\n",
    "print(\"{:0.2f}% non_english, monolingual records with no stated language\".format(non_eng_no_lang))\n",
    "print(\"{:0.2f}% multilingual records with no stated language\".format(multi_no_lang))"
   ]
  },
  {
   "cell_type": "code",
   "execution_count": 39,
   "id": "78f57729",
   "metadata": {},
   "outputs": [
    {
     "data": {
      "text/plain": [
       "<function matplotlib.pyplot.show(close=None, block=None)>"
      ]
     },
     "execution_count": 39,
     "metadata": {},
     "output_type": "execute_result"
    },
    {
     "data": {
      "image/png": "[encoded data removed]",
      "text/plain": [
       "<Figure size 720x504 with 1 Axes>"
      ]
     },
     "metadata": {},
     "output_type": "display_data"
    }
   ],
   "source": [
    "def en_stated(lang):\n",
    "    try:\n",
    "        if lang == 'en':\n",
    "            return 1\n",
    "        elif lang in lang_list:\n",
    "            return 0\n",
    "        else:\n",
    "            return None\n",
    "    except:\n",
    "        return None\n",
    "    \n",
    "find_stated = non_english.language.map(lambda x: en_stated(x))\n",
    "enStated = find_stated.sum()\n",
    "nonenStated = len(find_stated.loc[find_stated == 0])\n",
    "non_eng_no_lang = non_english.language.isna().sum()\n",
    "labels = ['English', 'Non-English', 'No Language']\n",
    "data = [enStated, nonenStated, non_eng_no_lang]\n",
    "colors = ['palegreen','skyblue', 'pink']\n",
    "fig = plt.figure(figsize = (10,7))\n",
    "plt.pie(data, labels = labels, autopct='%.1f%%', colors=colors)\n",
    "plt.title('Breakdown of Stated Languages for Non-English, Monolingual Records', fontsize=16)\n",
    "plt.show"
   ]
  },
  {
   "cell_type": "code",
   "execution_count": 40,
   "id": "c8516c53",
   "metadata": {},
   "outputs": [
    {
     "data": {
      "text/plain": [
       "<function matplotlib.pyplot.show(close=None, block=None)>"
      ]
     },
     "execution_count": 40,
     "metadata": {},
     "output_type": "execute_result"
    },
    {
     "data": {
      "image/png": "[encoded data removed]",
      "text/plain": [
       "<Figure size 720x504 with 1 Axes>"
      ]
     },
     "metadata": {},
     "output_type": "display_data"
    }
   ],
   "source": [
    "find_stated = multi.language.map(lambda x: en_stated(x))\n",
    "enStated = find_stated.sum()\n",
    "nonenStated = len(find_stated.loc[find_stated == 0])\n",
    "multi_no_lang = multi.language.isna().sum()\n",
    "labels = ['English', 'Non-English', 'No Language']\n",
    "data = [enStated, nonenStated, multi_no_lang]\n",
    "colors = ['palegreen','skyblue', 'pink']\n",
    "fig = plt.figure(figsize = (10,7))\n",
    "plt.pie(data, labels = labels, autopct='%.1f%%', colors=colors)\n",
    "plt.title('Breakdown of Stated Languages for Multilingual Records', fontsize=16)\n",
    "plt.show"
   ]
  },
  {
   "cell_type": "code",
   "execution_count": 41,
   "id": "afc9ec47",
   "metadata": {},
   "outputs": [
    {
     "name": "stdout",
     "output_type": "stream",
     "text": [
      "88.09% of multilingual records have English as one of their languages\n"
     ]
    }
   ],
   "source": [
    "#Looking to see how many multilingual records use english within their records\n",
    "def has_english(langlist):\n",
    "    try:\n",
    "        if 'en' in langlist:\n",
    "            return 1\n",
    "        else:\n",
    "            return 0\n",
    "    except:\n",
    "        return None\n",
    "eng_multi = multi.detected_lang.map(lambda x: has_english(x))\n",
    "eng_having_rate = (eng_multi.sum()/len(multi)) *100\n",
    "print(\"{:0.2f}% of multilingual records have English as one of their languages\".format(eng_having_rate))"
   ]
  },
  {
   "cell_type": "code",
   "execution_count": 42,
   "id": "8d00392f",
   "metadata": {},
   "outputs": [],
   "source": [
    "df.to_csv(output_dir / '04_language_detection.csv')"
   ]
  }
 ],
 "metadata": {
  "kernelspec": {
   "display_name": "Python 3 (Spyder)",
   "language": "python3",
   "name": "python3"
  },
  "language_info": {
   "codemirror_mode": {
    "name": "ipython",
    "version": 3
   },
   "file_extension": ".py",
   "mimetype": "text/x-python",
   "name": "python",
   "nbconvert_exporter": "python",
   "pygments_lexer": "ipython3",
   "version": "3.10.8"
  }
 },
 "nbformat": 4,
 "nbformat_minor": 5
}
