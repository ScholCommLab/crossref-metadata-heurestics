{
 "cells": [
  {
   "cell_type": "markdown",
   "id": "c006cae5",
   "metadata": {},
   "source": [
    "## Author Sequence Issues\n",
    "\n",
    "Authors inputting that there were multiple first authors or no first authors was an issue found in phase 1. Here the script will count the number of occurences of 'first' within an author list, and flag those that have no authors, multiple first authors, or no first authors."
   ]
  },
  {
   "cell_type": "code",
   "execution_count": 1,
   "id": "2cfd5e34",
   "metadata": {},
   "outputs": [],
   "source": [
    "import pandas as pd\n",
    "import json\n",
    "# Generator function for handling data iteration\n",
    "def gen(file_name):\n",
    "    with open(file_name, 'r') as fh:\n",
    "        for record in json.load(fh):\n",
    "            yield record\n",
    "\n",
    "df = pd.DataFrame(columns=['DOI', 'issue'])\n",
    "data = gen('bigger_sample.json')\n",
    "for record in data:\n",
    "    message = record['message']\n",
    "    doi = message['DOI']\n",
    "    # Non-articles typically do not have author fields\n",
    "    if message['type'] == 'journal-article':\n",
    "        try:\n",
    "            author_list = message['author']\n",
    "            counter = 0\n",
    "            for author in author_list:\n",
    "                # 'name' is commonly the field name used when presenting\n",
    "                # an institution as an author\n",
    "                if 'name' not in author.keys():\n",
    "                    if author['sequence'] == 'first':\n",
    "                        counter +=1\n",
    "                    else:\n",
    "                        continue\n",
    "                else:\n",
    "                    if len(author_list) == 1:\n",
    "                        counter +=1\n",
    "            if counter == 0:\n",
    "                df.loc[len(df)] = (doi, 'no first author')\n",
    "            elif counter > 1:\n",
    "                df.loc[len(df)] = (doi, 'multiple first authors')\n",
    "        except:\n",
    "            df.loc[len(df)] = (doi, 'no authors')\n",
    "    else:\n",
    "        continue"
   ]
  },
  {
   "cell_type": "code",
   "execution_count": 2,
   "id": "4ce5803c",
   "metadata": {},
   "outputs": [
    {
     "data": {
      "text/plain": [
       "(94, 2)"
      ]
     },
     "execution_count": 2,
     "metadata": {},
     "output_type": "execute_result"
    }
   ],
   "source": [
    "df.shape"
   ]
  },
  {
   "cell_type": "code",
   "execution_count": 3,
   "id": "573c3e12",
   "metadata": {},
   "outputs": [
    {
     "data": {
      "text/plain": [
       "issue\n",
       "no authors                84\n",
       "multiple first authors     9\n",
       "no first author            1\n",
       "dtype: int64"
      ]
     },
     "execution_count": 3,
     "metadata": {},
     "output_type": "execute_result"
    }
   ],
   "source": [
    "df.value_counts(subset=df['issue'])"
   ]
  },
  {
   "cell_type": "code",
   "execution_count": 4,
   "id": "5983321d",
   "metadata": {},
   "outputs": [
    {
     "data": {
      "text/html": [
       "<div>\n",
       "<style scoped>\n",
       "    .dataframe tbody tr th:only-of-type {\n",
       "        vertical-align: middle;\n",
       "    }\n",
       "\n",
       "    .dataframe tbody tr th {\n",
       "        vertical-align: top;\n",
       "    }\n",
       "\n",
       "    .dataframe thead th {\n",
       "        text-align: right;\n",
       "    }\n",
       "</style>\n",
       "<table border=\"1\" class=\"dataframe\">\n",
       "  <thead>\n",
       "    <tr style=\"text-align: right;\">\n",
       "      <th></th>\n",
       "      <th>DOI</th>\n",
       "      <th>issue</th>\n",
       "    </tr>\n",
       "  </thead>\n",
       "  <tbody>\n",
       "    <tr>\n",
       "      <th>0</th>\n",
       "      <td>10.1016/0379-6787(80)90068-x</td>\n",
       "      <td>no authors</td>\n",
       "    </tr>\n",
       "    <tr>\n",
       "      <th>1</th>\n",
       "      <td>10.3176/eco.2010.3.02</td>\n",
       "      <td>multiple first authors</td>\n",
       "    </tr>\n",
       "    <tr>\n",
       "      <th>2</th>\n",
       "      <td>10.1007/bf03221267</td>\n",
       "      <td>no authors</td>\n",
       "    </tr>\n",
       "    <tr>\n",
       "      <th>3</th>\n",
       "      <td>10.1017/s003329170400251x</td>\n",
       "      <td>no authors</td>\n",
       "    </tr>\n",
       "    <tr>\n",
       "      <th>4</th>\n",
       "      <td>10.1001/jama.1944.02850110032013</td>\n",
       "      <td>no authors</td>\n",
       "    </tr>\n",
       "    <tr>\n",
       "      <th>5</th>\n",
       "      <td>10.1007/bf01451578</td>\n",
       "      <td>no authors</td>\n",
       "    </tr>\n",
       "    <tr>\n",
       "      <th>6</th>\n",
       "      <td>10.1175/jcli3586.1</td>\n",
       "      <td>multiple first authors</td>\n",
       "    </tr>\n",
       "    <tr>\n",
       "      <th>7</th>\n",
       "      <td>10.1002/ltl.20463</td>\n",
       "      <td>no authors</td>\n",
       "    </tr>\n",
       "    <tr>\n",
       "      <th>8</th>\n",
       "      <td>10.1007/s40278-020-81276-7</td>\n",
       "      <td>no authors</td>\n",
       "    </tr>\n",
       "    <tr>\n",
       "      <th>9</th>\n",
       "      <td>10.1557/jmr.2015.240</td>\n",
       "      <td>no authors</td>\n",
       "    </tr>\n",
       "  </tbody>\n",
       "</table>\n",
       "</div>"
      ],
      "text/plain": [
       "                                DOI                   issue\n",
       "0      10.1016/0379-6787(80)90068-x              no authors\n",
       "1             10.3176/eco.2010.3.02  multiple first authors\n",
       "2                10.1007/bf03221267              no authors\n",
       "3         10.1017/s003329170400251x              no authors\n",
       "4  10.1001/jama.1944.02850110032013              no authors\n",
       "5                10.1007/bf01451578              no authors\n",
       "6                10.1175/jcli3586.1  multiple first authors\n",
       "7                 10.1002/ltl.20463              no authors\n",
       "8        10.1007/s40278-020-81276-7              no authors\n",
       "9              10.1557/jmr.2015.240              no authors"
      ]
     },
     "execution_count": 4,
     "metadata": {},
     "output_type": "execute_result"
    }
   ],
   "source": [
    "df.head(10)"
   ]
  },
  {
   "cell_type": "markdown",
   "id": "9285c94b",
   "metadata": {},
   "source": [
    "http://api.crossref.org/works/10.1016/0379-6787(80)90068-x\n",
    "\n",
    "http://api.crossref.org/works/10.3176/eco.2010.3.02\n",
    "\n",
    "http://api.crossref.org/works/10.1007/bf03221267\n",
    "\n",
    "Looking at the first 3 results from the df, we see that the script accurately returned records where there were no authors present, or in the second record's case multiple first authors.\n",
    "\n",
    "However, it also revealed a problem wherein items are tagged with the 'type' 'journal-article' despite being an index and a directory, respectively. This is an issue that I'm currently investigating to see what avenues are most accurate, and least cumbersome, in being able to assess an item's type. That as well as including 'editor' fields for, as an example, books where there are not authors listed but editors."
   ]
  }
 ],
 "metadata": {
  "kernelspec": {
   "display_name": "Python 3 (ipykernel)",
   "language": "python",
   "name": "python3"
  },
  "language_info": {
   "codemirror_mode": {
    "name": "ipython",
    "version": 3
   },
   "file_extension": ".py",
   "mimetype": "text/x-python",
   "name": "python",
   "nbconvert_exporter": "python",
   "pygments_lexer": "ipython3",
   "version": "3.8.13"
  }
 },
 "nbformat": 4,
 "nbformat_minor": 5
}
