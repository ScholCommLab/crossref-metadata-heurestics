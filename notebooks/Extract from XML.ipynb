{
 "cells": [
  {
   "cell_type": "code",
   "execution_count": 1,
   "metadata": {},
   "outputs": [],
   "source": [
    "import time\n",
    "\n",
    "import csv\n",
    "import requests\n",
    "\n",
    "import modin.pandas as pd\n",
    "import numpy as np\n",
    "\n",
    "from tqdm import tqdm  \n",
    "from pathlib import Path\n",
    "\n",
    "from bs4 import BeautifulSoup\n",
    "\n",
    "\n",
    "data_dir = Path('~/Docs/Metadata For Everyone/data')\n"
   ]
  },
  {
   "cell_type": "code",
   "execution_count": 57,
   "metadata": {},
   "outputs": [],
   "source": [
    "df = pd.read_csv(data_dir / 'allv3.csv', header=None)\n",
    "del df[0]\n",
    "df.columns = ['doi', 'xml']\n",
    "\n"
   ]
  },
  {
   "cell_type": "code",
   "execution_count": 58,
   "metadata": {},
   "outputs": [],
   "source": [
    "def get_langs(xml): \n",
    "    ret = {}\n",
    "    try: \n",
    "        soup = BeautifulSoup(xml, 'xml')\n",
    "        journal = soup.find('journal_metadata')\n",
    "        if journal:\n",
    "            ret['journal'] = journal.get('language')\n",
    "            \n",
    "        article = soup.find('journal_article')\n",
    "        if article: \n",
    "            ret['article_lang'] = article.get('language')\n",
    "\n",
    "        abstracts = soup.find_all('jats:abstract')\n",
    "        if abstracts: \n",
    "            langs = []\n",
    "            for abstract in abstracts: \n",
    "                langs.append(abstract.get('xml:lang'))\n",
    "                langs = [l for l in langs if l is not None]\n",
    "                \n",
    "            if len(langs) == 0:\n",
    "                langs = None\n",
    "            ret['abstracts'] = langs\n",
    "            \n",
    "    except Exception as e:\n",
    "        ret['err'] = type(e).__name__\n",
    "\n",
    "    return ret"
   ]
  },
  {
   "cell_type": "code",
   "execution_count": 59,
   "metadata": {},
   "outputs": [
    {
     "name": "stderr",
     "output_type": "stream",
     "text": [
      "\u001b[36m(raylet)\u001b[0m Spilled 33083 MiB, 195 objects, write throughput 981 MiB/s.\n"
     ]
    }
   ],
   "source": [
    "df.loc[:,'lang_dict'] = df.xml.map(get_langs)"
   ]
  },
  {
   "cell_type": "code",
   "execution_count": 60,
   "metadata": {},
   "outputs": [
    {
     "name": "stderr",
     "output_type": "stream",
     "text": [
      "UserWarning: json_normalize is not currently supported by PandasOnRay, defaulting to pandas implementation.\n",
      "UserWarning: Distributing <class 'pandas.core.frame.DataFrame'> object. This may take some time.\n"
     ]
    }
   ],
   "source": [
    "# Normalize the 'details' column\n",
    "df_normalized = pd.json_normalize(df['lang_dict'])\n",
    "\n",
    "# Concatenate the normalized DataFrame with the original DataFrame\n",
    "df = pd.concat([df.drop(columns='lang_dict'), df_normalized], axis=1)\n"
   ]
  },
  {
   "cell_type": "code",
   "execution_count": 61,
   "metadata": {},
   "outputs": [],
   "source": [
    "df.loc[:,'num_abstract_langs'] = df['abstracts'].map(lambda x: len(x) if type(x) == list else 0)"
   ]
  },
  {
   "cell_type": "code",
   "execution_count": 62,
   "metadata": {},
   "outputs": [],
   "source": [
    "df.loc[:,'abstracts'] = df['abstracts'].map(lambda x: x if type(x) == list and len(x) > 0 else None)\n",
    "\n"
   ]
  },
  {
   "cell_type": "code",
   "execution_count": 63,
   "metadata": {},
   "outputs": [],
   "source": [
    "del df['xml']\n",
    "df = df.set_index('doi')"
   ]
  },
  {
   "cell_type": "code",
   "execution_count": 66,
   "metadata": {},
   "outputs": [
    {
     "data": {
      "text/plain": [
       "journal         416974\n",
       "article_lang     23899\n",
       "abstracts        36445\n",
       "dtype: int64"
      ]
     },
     "execution_count": 66,
     "metadata": {},
     "output_type": "execute_result"
    }
   ],
   "source": [
    "df[['journal', 'article_lang', 'abstracts']].notnull().sum()"
   ]
  },
  {
   "cell_type": "code",
   "execution_count": 67,
   "metadata": {},
   "outputs": [
    {
     "data": {
      "text/plain": [
       "num_abstract_langs\n",
       "0    493599\n",
       "1     32756\n",
       "2      3074\n",
       "3       542\n",
       "4        48\n",
       "5        18\n",
       "6         2\n",
       "7         5\n",
       "dtype: int64"
      ]
     },
     "execution_count": 67,
     "metadata": {},
     "output_type": "execute_result"
    }
   ],
   "source": [
    "df.groupby('num_abstract_langs').size()"
   ]
  },
  {
   "cell_type": "code",
   "execution_count": 69,
   "metadata": {},
   "outputs": [],
   "source": [
    "def article_lang_in_abstract(row):\n",
    "    if row['article_lang'] and row['abstracts']:\n",
    "        return row['article_lang'] in row['abstracts']\n",
    "    else:\n",
    "        return None\n",
    "df.loc[:,'article_lang_in_abstract'] = df.apply(article_lang_in_abstract, axis=1)"
   ]
  },
  {
   "cell_type": "code",
   "execution_count": 72,
   "metadata": {},
   "outputs": [
    {
     "data": {
      "text/plain": [
       "article_lang_in_abstract\n",
       "False      50\n",
       "True     2600\n",
       "dtype: int64"
      ]
     },
     "execution_count": 72,
     "metadata": {},
     "output_type": "execute_result"
    }
   ],
   "source": [
    "df.groupby('article_lang_in_abstract').size()"
   ]
  },
  {
   "cell_type": "code",
   "execution_count": 73,
   "metadata": {},
   "outputs": [
    {
     "data": {
      "text/plain": [
       "527394"
      ]
     },
     "execution_count": 73,
     "metadata": {},
     "output_type": "execute_result"
    }
   ],
   "source": [
    "df.article_lang_in_abstract.isnull().sum()"
   ]
  },
  {
   "cell_type": "code",
   "execution_count": 75,
   "metadata": {},
   "outputs": [
    {
     "data": {
      "text/plain": [
       "article_lang_in_abstract\n",
       "False        50\n",
       "True       2600\n",
       "None     527394\n",
       "dtype: int64"
      ]
     },
     "execution_count": 75,
     "metadata": {},
     "output_type": "execute_result"
    }
   ],
   "source": [
    "df.fillna('None').groupby('article_lang_in_abstract').size()"
   ]
  },
  {
   "cell_type": "code",
   "execution_count": null,
   "metadata": {},
   "outputs": [],
   "source": []
  }
 ],
 "metadata": {
  "kernelspec": {
   "display_name": "Python 3 (ipykernel)",
   "language": "python",
   "name": "python3"
  },
  "language_info": {
   "codemirror_mode": {
    "name": "ipython",
    "version": 3
   },
   "file_extension": ".py",
   "mimetype": "text/x-python",
   "name": "python",
   "nbconvert_exporter": "python",
   "pygments_lexer": "ipython3",
   "version": "3.11.8"
  }
 },
 "nbformat": 4,
 "nbformat_minor": 4
}
