{
 "cells": [
  {
   "cell_type": "markdown",
   "id": "de5f8442",
   "metadata": {},
   "source": [
    "# Author Problems\n",
    "We'll start off by investigating the *author* field. This is an area that was found to have a number of potentially high priority issues as it pertains to social and political matters, as well as a field that has seen the some of the most pervasive issues in standardization. \n",
    "\n",
    "Start by importing the packages we'll need, setting up our directories, and loading in the data."
   ]
  },
  {
   "cell_type": "code",
   "execution_count": 1,
   "id": "35d503c8",
   "metadata": {},
   "outputs": [],
   "source": [
    "import pandas as pd #Creating dataframe and manipulating data\n",
    "from bs4 import BeautifulSoup as bs # for cleaning xml tags\n",
    "import re #regular expressions used for detection of initials\n",
    "import seaborn as sns # data visualizations\n",
    "from pathlib import Path"
   ]
  },
  {
   "cell_type": "code",
   "execution_count": 2,
   "id": "d1825b2e",
   "metadata": {},
   "outputs": [
    {
     "data": {
      "text/html": [
       "<div>\n",
       "<style scoped>\n",
       "    .dataframe tbody tr th:only-of-type {\n",
       "        vertical-align: middle;\n",
       "    }\n",
       "\n",
       "    .dataframe tbody tr th {\n",
       "        vertical-align: top;\n",
       "    }\n",
       "\n",
       "    .dataframe thead th {\n",
       "        text-align: right;\n",
       "    }\n",
       "</style>\n",
       "<table border=\"1\" class=\"dataframe\">\n",
       "  <thead>\n",
       "    <tr style=\"text-align: right;\">\n",
       "      <th></th>\n",
       "      <th>Index</th>\n",
       "      <th>indexed</th>\n",
       "      <th>publisher</th>\n",
       "      <th>content-domain</th>\n",
       "      <th>short-container-title</th>\n",
       "      <th>DOI</th>\n",
       "      <th>created</th>\n",
       "      <th>is-referenced-by-count</th>\n",
       "      <th>title</th>\n",
       "      <th>prefix</th>\n",
       "      <th>volume</th>\n",
       "      <th>author</th>\n",
       "      <th>member</th>\n",
       "      <th>reference</th>\n",
       "      <th>container-title</th>\n",
       "      <th>language</th>\n",
       "      <th>link</th>\n",
       "      <th>deposited</th>\n",
       "      <th>resource</th>\n",
       "      <th>issued</th>\n",
       "      <th>references-count</th>\n",
       "      <th>journal-issue</th>\n",
       "      <th>URL</th>\n",
       "      <th>subject</th>\n",
       "      <th>alternative-id</th>\n",
       "      <th>assertion</th>\n",
       "      <th>abstract</th>\n",
       "      <th>original-title</th>\n",
       "      <th>subtitle</th>\n",
       "      <th>editor</th>\n",
       "    </tr>\n",
       "  </thead>\n",
       "  <tbody>\n",
       "    <tr>\n",
       "      <th>0</th>\n",
       "      <td>0</td>\n",
       "      <td>2022-10-07</td>\n",
       "      <td>Wiley</td>\n",
       "      <td>{'domain': [], 'crossmark-restriction': False}</td>\n",
       "      <td>Syst. Dyn. Rev.</td>\n",
       "      <td>10.1002/(sici)1099-1727(200021)16:1&lt;27::aid-sd...</td>\n",
       "      <td>2002-09-10</td>\n",
       "      <td>57</td>\n",
       "      <td>The validation of commercial system dynamics m...</td>\n",
       "      <td>10.1002</td>\n",
       "      <td>16</td>\n",
       "      <td>[{'given': 'Geoff', 'family': 'Coyle', 'sequen...</td>\n",
       "      <td>311.0</td>\n",
       "      <td>[{'key': '10.1002/(SICI)1099-1727(200021)16:1&lt;...</td>\n",
       "      <td>System Dynamics Review</td>\n",
       "      <td>en</td>\n",
       "      <td>[{'URL': 'https://api.wiley.com/onlinelibrary/...</td>\n",
       "      <td>2021-07-01</td>\n",
       "      <td>{'primary': {'URL': 'https://onlinelibrary.wil...</td>\n",
       "      <td>{'date-parts': [[2000]]}</td>\n",
       "      <td>14</td>\n",
       "      <td>{'issue': '1', 'published-print': {'date-parts...</td>\n",
       "      <td>http://dx.doi.org/10.1002/(sici)1099-1727(2000...</td>\n",
       "      <td>['Management of Technology and Innovation', 'S...</td>\n",
       "      <td>NaN</td>\n",
       "      <td>NaN</td>\n",
       "      <td>NaN</td>\n",
       "      <td>NaN</td>\n",
       "      <td>NaN</td>\n",
       "      <td>NaN</td>\n",
       "    </tr>\n",
       "    <tr>\n",
       "      <th>1</th>\n",
       "      <td>1</td>\n",
       "      <td>2022-03-29</td>\n",
       "      <td>Springer Science and Business Media LLC</td>\n",
       "      <td>{'domain': [], 'crossmark-restriction': False}</td>\n",
       "      <td>MTB</td>\n",
       "      <td>10.1007/bf02653972</td>\n",
       "      <td>2007-07-17</td>\n",
       "      <td>20</td>\n",
       "      <td>Effect of system geometry on the leaching beha...</td>\n",
       "      <td>10.1007</td>\n",
       "      <td>10</td>\n",
       "      <td>[{'given': 'C.', 'family': 'Vu', 'sequence': '...</td>\n",
       "      <td>297.0</td>\n",
       "      <td>[{'key': 'BF02653972_CR1', 'volume-title': 'Ph...</td>\n",
       "      <td>Metallurgical Transactions B</td>\n",
       "      <td>en</td>\n",
       "      <td>[{'URL': 'http://link.springer.com/content/pdf...</td>\n",
       "      <td>2019-05-20</td>\n",
       "      <td>{'primary': {'URL': 'http://link.springer.com/...</td>\n",
       "      <td>{'date-parts': [[1979, 3]]}</td>\n",
       "      <td>12</td>\n",
       "      <td>{'issue': '1', 'published-print': {'date-parts...</td>\n",
       "      <td>http://dx.doi.org/10.1007/bf02653972</td>\n",
       "      <td>['Materials Chemistry', 'Metals and Alloys', '...</td>\n",
       "      <td>['BF02653972']</td>\n",
       "      <td>NaN</td>\n",
       "      <td>NaN</td>\n",
       "      <td>NaN</td>\n",
       "      <td>NaN</td>\n",
       "      <td>NaN</td>\n",
       "    </tr>\n",
       "    <tr>\n",
       "      <th>2</th>\n",
       "      <td>2</td>\n",
       "      <td>2022-03-30</td>\n",
       "      <td>Wiley</td>\n",
       "      <td>{'domain': [], 'crossmark-restriction': False}</td>\n",
       "      <td>RECIEL</td>\n",
       "      <td>10.1111/reel.12221</td>\n",
       "      <td>2017-12-01</td>\n",
       "      <td>2</td>\n",
       "      <td>The international law on transboundary haze po...</td>\n",
       "      <td>10.1111</td>\n",
       "      <td>26</td>\n",
       "      <td>[{'given': 'Shawkat', 'family': 'Alam', 'seque...</td>\n",
       "      <td>311.0</td>\n",
       "      <td>NaN</td>\n",
       "      <td>Review of European, Comparative &amp;amp; Internat...</td>\n",
       "      <td>en</td>\n",
       "      <td>[{'URL': 'https://api.wiley.com/onlinelibrary/...</td>\n",
       "      <td>2017-12-01</td>\n",
       "      <td>{'primary': {'URL': 'http://doi.wiley.com/10.1...</td>\n",
       "      <td>{'date-parts': [[2017, 11]]}</td>\n",
       "      <td>0</td>\n",
       "      <td>{'issue': '3', 'published-print': {'date-parts...</td>\n",
       "      <td>http://dx.doi.org/10.1111/reel.12221</td>\n",
       "      <td>['Law', 'Management, Monitoring, Policy and La...</td>\n",
       "      <td>NaN</td>\n",
       "      <td>NaN</td>\n",
       "      <td>NaN</td>\n",
       "      <td>NaN</td>\n",
       "      <td>NaN</td>\n",
       "      <td>NaN</td>\n",
       "    </tr>\n",
       "    <tr>\n",
       "      <th>3</th>\n",
       "      <td>3</td>\n",
       "      <td>2022-04-03</td>\n",
       "      <td>Crop Science Society of Japan</td>\n",
       "      <td>{'domain': [], 'crossmark-restriction': False}</td>\n",
       "      <td>Japanese journal of crop science', 'Jpn. J. Cr...</td>\n",
       "      <td>10.1626/jcs.20.219</td>\n",
       "      <td>2011-09-20</td>\n",
       "      <td>0</td>\n",
       "      <td>Studies on the influence of pruning on the veg...</td>\n",
       "      <td>10.1626</td>\n",
       "      <td>20</td>\n",
       "      <td>[{'given': 'C.', 'family': 'TSUDA', 'sequence'...</td>\n",
       "      <td>632.0</td>\n",
       "      <td>NaN</td>\n",
       "      <td>Japanese Journal of Crop Science</td>\n",
       "      <td>en</td>\n",
       "      <td>[{'URL': 'http://www.jstage.jst.go.jp/article/...</td>\n",
       "      <td>2021-04-30</td>\n",
       "      <td>{'primary': {'URL': 'http://www.jstage.jst.go....</td>\n",
       "      <td>{'date-parts': [[1951]]}</td>\n",
       "      <td>0</td>\n",
       "      <td>{'issue': '1-2', 'published-print': {'date-par...</td>\n",
       "      <td>http://dx.doi.org/10.1626/jcs.20.219</td>\n",
       "      <td>['Genetics', 'Agronomy and Crop Science', 'Foo...</td>\n",
       "      <td>NaN</td>\n",
       "      <td>NaN</td>\n",
       "      <td>NaN</td>\n",
       "      <td>NaN</td>\n",
       "      <td>NaN</td>\n",
       "      <td>NaN</td>\n",
       "    </tr>\n",
       "    <tr>\n",
       "      <th>4</th>\n",
       "      <td>4</td>\n",
       "      <td>2022-03-31</td>\n",
       "      <td>Elsevier BV</td>\n",
       "      <td>{'domain': ['clinicalkey.fr', 'elsevier.com', ...</td>\n",
       "      <td>Revue de Pneumologie Clinique</td>\n",
       "      <td>10.1016/j.pneumo.2018.09.002</td>\n",
       "      <td>2018-10-10</td>\n",
       "      <td>0</td>\n",
       "      <td>Le tabagisme et l’aide à l’arrêt du tabac des ...</td>\n",
       "      <td>10.1016</td>\n",
       "      <td>74</td>\n",
       "      <td>[{'given': 'J.', 'family': 'Perriot', 'sequenc...</td>\n",
       "      <td>78.0</td>\n",
       "      <td>[{'key': '10.1016/j.pneumo.2018.09.002_bib0305...</td>\n",
       "      <td>Revue de Pneumologie Clinique</td>\n",
       "      <td>fr</td>\n",
       "      <td>[{'URL': 'https://api.elsevier.com/content/art...</td>\n",
       "      <td>2019-10-26</td>\n",
       "      <td>{'primary': {'URL': 'https://linkinghub.elsevi...</td>\n",
       "      <td>{'date-parts': [[2018, 12]]}</td>\n",
       "      <td>60</td>\n",
       "      <td>{'issue': '6', 'published-print': {'date-parts...</td>\n",
       "      <td>http://dx.doi.org/10.1016/j.pneumo.2018.09.002</td>\n",
       "      <td>['Pulmonary and Respiratory Medicine']</td>\n",
       "      <td>['S0761841718301792']</td>\n",
       "      <td>[{'value': 'Elsevier', 'name': 'publisher', 'l...</td>\n",
       "      <td>NaN</td>\n",
       "      <td>NaN</td>\n",
       "      <td>NaN</td>\n",
       "      <td>NaN</td>\n",
       "    </tr>\n",
       "  </tbody>\n",
       "</table>\n",
       "</div>"
      ],
      "text/plain": [
       "   Index    indexed  ... subtitle editor\n",
       "0      0 2022-10-07  ...      NaN    NaN\n",
       "1      1 2022-03-29  ...      NaN    NaN\n",
       "2      2 2022-03-30  ...      NaN    NaN\n",
       "3      3 2022-04-03  ...      NaN    NaN\n",
       "4      4 2022-03-31  ...      NaN    NaN\n",
       "\n",
       "[5 rows x 30 columns]"
      ]
     },
     "execution_count": 2,
     "metadata": {},
     "output_type": "execute_result"
    }
   ],
   "source": [
    "# Data Directory\n",
    "data_dir = Path('../data')\n",
    "input_dir = data_dir / 'input'\n",
    "output_dir = data_dir / 'output'\n",
    "# Loading in dataset\n",
    "df = pd.read_csv(input_dir / 'cleaned_data.csv', parse_dates=['indexed', 'created', 'deposited'], infer_datetime_format=True)\n",
    "df.head()"
   ]
  },
  {
   "cell_type": "markdown",
   "id": "cb8f49f2",
   "metadata": {},
   "source": [
    "## Problem Detection Functions and Data Labeling\n",
    "### Author Sequence\n",
    "Our first function will be checking the *sequence* sub-field within the *author* field. This is the field wherein authors are either listed as 'first' or 'addtional'. This function sets up a counter then iterates through the author list of a record to check what the noted sequence is for each author.\n",
    "\n",
    "The `try` block filters out records that have no authors listed. After that we begin to iterate through each author within a given record.\n",
    "\n",
    "`If 'name' in author.keys():` is used to filter out institutions listed as authors as using the 'name' key is often how an institution is presented as an author within the metadata record. The code within the `if` block simply says if there's an institution as an author and they are the only author listed, increase the counter to 1, then the code will continue down to the `return` statements where **0** will be returned as technically there is not an issue with sequence in that record.\n",
    "\n",
    "`else: if author['sequence'] == 'first'` block is where the bulk of the counting activity will happen. Up until this point we are mostly filtering out instances that don't apply to the problem at hand. Simply, the function will count how many authors are labled as 'first'. Once all authors of a record have been parsed, we go to the `return` statements."
   ]
  },
  {
   "cell_type": "code",
   "execution_count": 3,
   "id": "4795ca1a",
   "metadata": {},
   "outputs": [],
   "source": [
    "def sequence_checker(authorList):\n",
    "    counter = 0 \n",
    "    try: \n",
    "        for author in authorList:\n",
    "                if 'name' in author.keys():\n",
    "                    if len(authorList) == 1:\n",
    "                        counter +=1\n",
    "                    else:\n",
    "                        continue\n",
    "                else:\n",
    "                    if author['sequence'] == 'first':\n",
    "                        counter +=1\n",
    "                    else:\n",
    "                        continue\n",
    "        if counter == 0:\n",
    "            return 1 #no first author\n",
    "        elif counter > 1:\n",
    "            return 1 #multiple first authors\n",
    "        else:\n",
    "            return 0 #no issue\n",
    "    except:\n",
    "        return None"
   ]
  },
  {
   "cell_type": "code",
   "execution_count": 4,
   "id": "566358e7",
   "metadata": {},
   "outputs": [],
   "source": [
    "# The 'author' and 'subject' columns need to be evaluated and formated before parsing,\n",
    "# otherwise they are treated as strings instead of dicts/lists.\n",
    "import ast\n",
    "def reformat_col(record):\n",
    "    try:\n",
    "        formed = ast.literal_eval(record)\n",
    "        return formed\n",
    "    except:\n",
    "        return None\n",
    "\n",
    "cols_to_reformat = ['author', 'subject']\n",
    "for col in cols_to_reformat:\n",
    "    df[col] = df[col].apply(lambda x: reformat_col(x))"
   ]
  },
  {
   "cell_type": "code",
   "execution_count": 5,
   "id": "5767935a",
   "metadata": {},
   "outputs": [],
   "source": [
    "author_sequence_issues = df.author.map(lambda x: sequence_checker(x))\n",
    "df['author_sequence'] = author_sequence_issues #inserting a column with our data labels"
   ]
  },
  {
   "cell_type": "code",
   "execution_count": 6,
   "id": "4589a4a1",
   "metadata": {},
   "outputs": [
    {
     "data": {
      "text/plain": [
       "1.0472364035485202"
      ]
     },
     "execution_count": 6,
     "metadata": {},
     "output_type": "execute_result"
    }
   ],
   "source": [
    "records_with_AuSeq = df.loc[(df.author_sequence == 1) | (df.author_sequence == 2)] #creating a df with only the cords with these errors\n",
    "prevalence_AuSeq = ((len(records_with_AuSeq))/(len(df.author_sequence))) * 100\n",
    "prevalence_AuSeq #returning a percent of the total number of records with this particular issue"
   ]
  },
  {
   "cell_type": "markdown",
   "id": "9f059d8b",
   "metadata": {},
   "source": [
    "### Author Initials\n",
    "This function will utilize regular expressions for detecting the use of initials. Specifically, we are looking for when initials are used in totality, that is to say a record with \"Marianne E.\" will not be flagged, whereas a record with \"D.\" will.\n",
    "\n",
    "We look in both the 'given' and the 'family' sub-fields as this use of initials has been found in both sub-fields previously. \n",
    "\n",
    "The flow of the function operates similarly to the `sequence_checker`, we filter out records with `null` authors in the first `try` statement, followed by iteration through the author list, then another `try` statement where we filter out institutions as authors.\n",
    "\n",
    "The regular expressions can be broken into two conditions: `^(?:[A-Z]\\W{,3}\\s?){,3}` and `(?:[^\\W\\d_.]\\W){1,2}\\B` which are seperated by `|`. This is because each of those expressions are looking for initials, the former is looking in ASCII characters, whereas the latter s looking for the pattern in non-Latin characters.\n",
    "\n",
    "`if detector != None or len(author['given']) == 1` insures that all initialized names are caught and then returned with the appropriate label."
   ]
  },
  {
   "cell_type": "code",
   "execution_count": 7,
   "id": "f55933c0",
   "metadata": {},
   "outputs": [],
   "source": [
    "def author_initials_checker(authorList):\n",
    "    try: #Filter for no authors\n",
    "        for author in authorList: #iterating through author array\n",
    "            try: #filter for institutions as authors\n",
    "                detector = re.match(r\"^(?:[A-Z]\\W{,3}\\s?){,3}$|(?:[^\\W\\d_.]\\W){1,2}\\B$\", author['given'].capitalize()) #checking for initials in given\n",
    "                if detector != None or len(author['given']) == 1:\n",
    "                    return 1 #initials used\n",
    "                else:\n",
    "                    family_detector = detector = re.match(r\"^(?:[A-Z]\\W{,3}\\s?){,3}$|(?:[^\\W\\d_.]\\W){1,2}\\B$\", author['family'].capitalize()) #initials in family\n",
    "                    if family_detector != None or len(author['family']) == 1:\n",
    "                        return 1 #initials used\n",
    "                    else:\n",
    "                        pass\n",
    "            except:\n",
    "                pass\n",
    "                        \n",
    "    except:\n",
    "        return None\n",
    "    return 0 #no issue"
   ]
  },
  {
   "cell_type": "code",
   "execution_count": 8,
   "id": "aef9681d",
   "metadata": {},
   "outputs": [],
   "source": [
    "author_problems = df.author.map(lambda x: author_initials_checker(x))\n",
    "df['author_initials'] = author_problems #setting up column with new data labels"
   ]
  },
  {
   "cell_type": "code",
   "execution_count": 9,
   "id": "749b082c",
   "metadata": {},
   "outputs": [
    {
     "data": {
      "text/plain": [
       "17.118287365696965"
      ]
     },
     "execution_count": 9,
     "metadata": {},
     "output_type": "execute_result"
    }
   ],
   "source": [
    "records_with_initials = df.loc[df.author_initials == 1]\n",
    "prevalence_author_initials = ((len(records_with_initials))/(len(df.author_initials))) * 100\n",
    "prevalence_author_initials # percentage of records with this specific issue"
   ]
  },
  {
   "cell_type": "code",
   "execution_count": 10,
   "id": "44bcbdf8",
   "metadata": {},
   "outputs": [
    {
     "data": {
      "text/plain": [
       "<AxesSubplot:xlabel='author_initials', ylabel='count'>"
      ]
     },
     "execution_count": 10,
     "metadata": {},
     "output_type": "execute_result"
    },
    {
     "data": {
      "image/png": "[encoded data removed]",
      "text/plain": [
       "<Figure size 432x288 with 1 Axes>"
      ]
     },
     "metadata": {},
     "output_type": "display_data"
    }
   ],
   "source": [
    "sns.set_theme(style='whitegrid')\n",
    "sns.countplot(x=df['author_initials']) #simple plot to visualize the scale of the problem"
   ]
  },
  {
   "cell_type": "markdown",
   "id": "0d755805",
   "metadata": {},
   "source": [
    "### Institutions as Authors\n",
    "This function will address instances in which institutions are recorded as authors.\n",
    "\n",
    "`try:` will filter out records with `null` authors. Then we have the `institutions_present` list that looks for the telltale sign of an institution, the 'name' sub-field. \n",
    "\n",
    "If the list is populated with any authors, then the appropriate label signalling an institution will be returned."
   ]
  },
  {
   "cell_type": "code",
   "execution_count": 11,
   "id": "3202296e",
   "metadata": {},
   "outputs": [],
   "source": [
    "def institution_as_author(authorList):\n",
    "    try:\n",
    "        institutions_present = [author for author in authorList if 'name' in author.keys()]\n",
    "        if len(institutions_present) > 0:\n",
    "            return 1 #institution as author\n",
    "        else:\n",
    "            return 0 #no issue\n",
    "    except:\n",
    "        return None"
   ]
  },
  {
   "cell_type": "code",
   "execution_count": 12,
   "id": "0b2f4733",
   "metadata": {},
   "outputs": [],
   "source": [
    "author_institutions = df.author.map(lambda x: institution_as_author(x))\n",
    "df['author_institutions'] = author_institutions #new column with data labels"
   ]
  },
  {
   "cell_type": "code",
   "execution_count": 13,
   "id": "4f2fc790",
   "metadata": {},
   "outputs": [
    {
     "data": {
      "text/plain": [
       "1.6806130360793081"
      ]
     },
     "execution_count": 13,
     "metadata": {},
     "output_type": "execute_result"
    }
   ],
   "source": [
    "records_with_AuIns = df.loc[df.author_institutions == 1]\n",
    "prevalence_AuIns = ((len(records_with_AuIns))/(len(df.author_institutions))) * 100\n",
    "prevalence_AuIns #percentage of records with this specific issue"
   ]
  },
  {
   "cell_type": "markdown",
   "id": "91bcccfe",
   "metadata": {},
   "source": [
    "### Non-Latin Characters\n",
    "\n",
    "This function detects the use of non-latin character sets. Particularly we are interested in practices of romanization and when it occurs: which journals, are the *language* fields present and accurate, and so on. \n",
    "\n",
    "First, we have to identify which records are using non-latin characters.\n",
    "\n",
    "This is split into two different functions. The first utilizes a regular expression `(?:[^ı́\\x00-\\xff])` to detect any characters not in ISO-8859-1 (or Latin-1) (See note).\n",
    "\n",
    "The second then utlizes the first function to then check each author within a given record.\n",
    "\n",
    "Note: This expression is providing a few too many false positives for my liking. I'm currently working on a better expression or a different solution entirely."
   ]
  },
  {
   "cell_type": "code",
   "execution_count": 14,
   "id": "2deb13c4",
   "metadata": {},
   "outputs": [],
   "source": [
    "def isLatinChar(text):\n",
    "    regexp = re.compile(r'(?:[^ı́\\x00-\\xff])')\n",
    "    if regexp.search(text):\n",
    "        return True\n",
    "    else:\n",
    "        return False\n",
    "def latin_script_checker(authorList):\n",
    "    try:\n",
    "        latin_scripts = [author for author in authorList if isLatinChar(author['given'])]\n",
    "        if len(latin_scripts) > 0:\n",
    "            return 1 # non-latin script found\n",
    "        else:\n",
    "            return 0 # no issue\n",
    "    except:\n",
    "        return None"
   ]
  },
  {
   "cell_type": "code",
   "execution_count": 15,
   "id": "756f585c",
   "metadata": {},
   "outputs": [],
   "source": [
    "char_checker = df.author.map(lambda x: latin_script_checker(x))\n",
    "df['author_characters'] = char_checker #new column with data labels"
   ]
  },
  {
   "cell_type": "code",
   "execution_count": 16,
   "id": "f8fa3db6",
   "metadata": {},
   "outputs": [
    {
     "data": {
      "text/plain": [
       "1.941415178886103"
      ]
     },
     "execution_count": 16,
     "metadata": {},
     "output_type": "execute_result"
    }
   ],
   "source": [
    "records_with_non_latin = df.loc[df.author_characters == 1]\n",
    "prevalence_NonLatin = ((len(records_with_non_latin))/(len(df.author_institutions))) * 100\n",
    "prevalence_NonLatin #percentage of records with this specific issue"
   ]
  },
  {
   "cell_type": "code",
   "execution_count": 17,
   "id": "28ab20b4",
   "metadata": {},
   "outputs": [
    {
     "data": {
      "text/plain": [
       "10.313264658792253"
      ]
     },
     "execution_count": 17,
     "metadata": {},
     "output_type": "execute_result"
    }
   ],
   "source": [
    "records_missing_authors = df.loc[df.author.isnull()] # Finding all the records with null author values\n",
    "prevalence_AuMis = ((len(records_missing_authors))/(len(df.author))) * 100\n",
    "prevalence_AuMis # percentage of records with this specific issue"
   ]
  },
  {
   "cell_type": "code",
   "execution_count": 18,
   "id": "07f810ed",
   "metadata": {},
   "outputs": [
    {
     "data": {
      "text/plain": [
       "0.8730326556505453"
      ]
     },
     "execution_count": 18,
     "metadata": {},
     "output_type": "execute_result"
    }
   ],
   "source": [
    "records_with_multiple = df.loc[((df.author_initials == 1) & (df.author_institutions == 1) & (df.author_sequence != 0) & (df.author_characters == 1))|\n",
    "                              ((df.author_initials == 1) & (df.author_institutions == 1))|\n",
    "                              ((df.author_institutions == 1) & (df.author_sequence != 0))|\n",
    "                              ((df.author_initials == 1) & (df.author_sequence != 0))| \n",
    "                              ((df.author_characters == 1) & (df.author_initials == 1))| \n",
    "                              ((df.author_characters == 1) & (df.author_initials == 1) & (df.author_institutions == 1))| \n",
    "                              ((df.author_characters == 1) & (df.author_institutions == 1))|\n",
    "                              ((df.author_characters == 1) & (df.author_sequence != 0))|\n",
    "                              ((df.author_characters == 1) & (df.author_sequence != 0) & (df.author_institutions == 1))]\n",
    "prevalence_multiple = ((len(records_with_multiple))/(len(df.author))) * 100\n",
    "prevalence_multiple #percentage of records with more than one author issue"
   ]
  },
  {
   "cell_type": "code",
   "execution_count": 19,
   "id": "655de29b",
   "metadata": {},
   "outputs": [
    {
     "data": {
      "text/plain": [
       "867"
      ]
     },
     "execution_count": 19,
     "metadata": {},
     "output_type": "execute_result"
    }
   ],
   "source": [
    "len(records_with_multiple) #exact number of records in the df"
   ]
  },
  {
   "cell_type": "code",
   "execution_count": 20,
   "id": "eb4f3bc9",
   "metadata": {},
   "outputs": [
    {
     "data": {
      "text/html": [
       "<div>\n",
       "<style scoped>\n",
       "    .dataframe tbody tr th:only-of-type {\n",
       "        vertical-align: middle;\n",
       "    }\n",
       "\n",
       "    .dataframe tbody tr th {\n",
       "        vertical-align: top;\n",
       "    }\n",
       "\n",
       "    .dataframe thead th {\n",
       "        text-align: right;\n",
       "    }\n",
       "</style>\n",
       "<table border=\"1\" class=\"dataframe\">\n",
       "  <thead>\n",
       "    <tr style=\"text-align: right;\">\n",
       "      <th></th>\n",
       "      <th>Index</th>\n",
       "      <th>indexed</th>\n",
       "      <th>publisher</th>\n",
       "      <th>content-domain</th>\n",
       "      <th>short-container-title</th>\n",
       "      <th>DOI</th>\n",
       "      <th>created</th>\n",
       "      <th>is-referenced-by-count</th>\n",
       "      <th>title</th>\n",
       "      <th>prefix</th>\n",
       "      <th>volume</th>\n",
       "      <th>author</th>\n",
       "      <th>member</th>\n",
       "      <th>reference</th>\n",
       "      <th>container-title</th>\n",
       "      <th>language</th>\n",
       "      <th>link</th>\n",
       "      <th>deposited</th>\n",
       "      <th>resource</th>\n",
       "      <th>issued</th>\n",
       "      <th>references-count</th>\n",
       "      <th>journal-issue</th>\n",
       "      <th>URL</th>\n",
       "      <th>subject</th>\n",
       "      <th>alternative-id</th>\n",
       "      <th>assertion</th>\n",
       "      <th>abstract</th>\n",
       "      <th>original-title</th>\n",
       "      <th>subtitle</th>\n",
       "      <th>editor</th>\n",
       "      <th>author_sequence</th>\n",
       "      <th>author_initials</th>\n",
       "      <th>author_institutions</th>\n",
       "      <th>author_characters</th>\n",
       "    </tr>\n",
       "  </thead>\n",
       "  <tbody>\n",
       "    <tr>\n",
       "      <th>80</th>\n",
       "      <td>81</td>\n",
       "      <td>2022-04-03</td>\n",
       "      <td>Oxford University Press (OUP)</td>\n",
       "      <td>{'domain': [], 'crossmark-restriction': False}</td>\n",
       "      <td>Eur Heart J Cardiovasc Imaging</td>\n",
       "      <td>10.1093/ehjci/jew247</td>\n",
       "      <td>2016-12-10</td>\n",
       "      <td>1</td>\n",
       "      <td>Clinical Case Poster session 1P501The incremen...</td>\n",
       "      <td>10.10930</td>\n",
       "      <td>17</td>\n",
       "      <td>[{'given': 'P.', 'family': 'Lech', 'sequence':...</td>\n",
       "      <td>286.0</td>\n",
       "      <td>NaN</td>\n",
       "      <td>European Heart Journal – Cardiovascular Imaging</td>\n",
       "      <td>en</td>\n",
       "      <td>[{'URL': 'http://academic.oup.com/ehjcimaging/...</td>\n",
       "      <td>2017-08-24</td>\n",
       "      <td>{'primary': {'URL': 'https://academic.oup.com/...</td>\n",
       "      <td>{'date-parts': [[2016, 12]]}</td>\n",
       "      <td>0</td>\n",
       "      <td>{'issue': 'suppl 2', 'published-online': {'dat...</td>\n",
       "      <td>http://dx.doi.org/10.1093/ehjci/jew247</td>\n",
       "      <td>[Cardiology and Cardiovascular Medicine, Radio...</td>\n",
       "      <td>['10.1093/ehjci/jew247']</td>\n",
       "      <td>NaN</td>\n",
       "      <td>NaN</td>\n",
       "      <td>NaN</td>\n",
       "      <td>NaN</td>\n",
       "      <td>NaN</td>\n",
       "      <td>1.0</td>\n",
       "      <td>1.0</td>\n",
       "      <td>0.0</td>\n",
       "      <td>0.0</td>\n",
       "    </tr>\n",
       "    <tr>\n",
       "      <th>212</th>\n",
       "      <td>215</td>\n",
       "      <td>2022-04-06</td>\n",
       "      <td>Science China Press., Co. Ltd.</td>\n",
       "      <td>{'domain': ['engine.scichina.com'], 'crossmark...</td>\n",
       "      <td>Sci. Sin.-Phys. Mech. Astron.</td>\n",
       "      <td>10.1360/2010-40-1-55</td>\n",
       "      <td>2019-08-08</td>\n",
       "      <td>0</td>\n",
       "      <td>Si/SiO&amp;amp;lt;sub&amp;amp;gt;2&amp;amp;lt;/sub&amp;amp;gt;...</td>\n",
       "      <td>10.13600</td>\n",
       "      <td>40</td>\n",
       "      <td>[{'given': '明', 'family': '徐', 'sequence': 'fi...</td>\n",
       "      <td>294.0</td>\n",
       "      <td>NaN</td>\n",
       "      <td>SCIENTIA SINICA Physica, Mechanica &amp;amp; Astro...</td>\n",
       "      <td>en</td>\n",
       "      <td>NaN</td>\n",
       "      <td>2019-08-08</td>\n",
       "      <td>{'primary': {'URL': 'http://engine.scichina.co...</td>\n",
       "      <td>{'date-parts': [[2010, 2, 1]]}</td>\n",
       "      <td>0</td>\n",
       "      <td>{'issue': '1', 'published-online': {'date-part...</td>\n",
       "      <td>http://dx.doi.org/10.1360/2010-40-1-55</td>\n",
       "      <td>None</td>\n",
       "      <td>NaN</td>\n",
       "      <td>NaN</td>\n",
       "      <td>NaN</td>\n",
       "      <td>NaN</td>\n",
       "      <td>NaN</td>\n",
       "      <td>NaN</td>\n",
       "      <td>0.0</td>\n",
       "      <td>1.0</td>\n",
       "      <td>0.0</td>\n",
       "      <td>1.0</td>\n",
       "    </tr>\n",
       "    <tr>\n",
       "      <th>299</th>\n",
       "      <td>303</td>\n",
       "      <td>2022-04-03</td>\n",
       "      <td>ESG</td>\n",
       "      <td>{'domain': [], 'crossmark-restriction': False}</td>\n",
       "      <td>Int. J. Electrochem. Sci.</td>\n",
       "      <td>10.20964/2018.08.15</td>\n",
       "      <td>2018-07-10</td>\n",
       "      <td>0</td>\n",
       "      <td>Water Contained Ionic Liquid Medium for Electr...</td>\n",
       "      <td>10.20964</td>\n",
       "      <td>NaN</td>\n",
       "      <td>[{'given': 'G', 'family': 'Muthuraman', 'seque...</td>\n",
       "      <td>8561.0</td>\n",
       "      <td>NaN</td>\n",
       "      <td>International Journal of Electrochemical Science</td>\n",
       "      <td>NaN</td>\n",
       "      <td>[{'URL': 'http://www.electrochemsci.org/papers...</td>\n",
       "      <td>2018-07-10</td>\n",
       "      <td>{'primary': {'URL': 'http://www.electrochemsci...</td>\n",
       "      <td>{'date-parts': [[2018, 8]]}</td>\n",
       "      <td>0</td>\n",
       "      <td>NaN</td>\n",
       "      <td>http://dx.doi.org/10.20964/2018.08.15</td>\n",
       "      <td>[Electrochemistry]</td>\n",
       "      <td>NaN</td>\n",
       "      <td>NaN</td>\n",
       "      <td>NaN</td>\n",
       "      <td>NaN</td>\n",
       "      <td>NaN</td>\n",
       "      <td>NaN</td>\n",
       "      <td>0.0</td>\n",
       "      <td>1.0</td>\n",
       "      <td>1.0</td>\n",
       "      <td>NaN</td>\n",
       "    </tr>\n",
       "    <tr>\n",
       "      <th>429</th>\n",
       "      <td>433</td>\n",
       "      <td>2022-04-06</td>\n",
       "      <td>The Russian Academy of Sciences</td>\n",
       "      <td>{'domain': [], 'crossmark-restriction': False}</td>\n",
       "      <td>Zh. Org. Khim.</td>\n",
       "      <td>10.31857/s0514749222010086</td>\n",
       "      <td>2022-01-06</td>\n",
       "      <td>0</td>\n",
       "      <td>СИНТЕЗ ПО РЕАКЦИИ РИТТЕРА И СВОЙСТВА БИС-ПРОИЗ...</td>\n",
       "      <td>10.31857</td>\n",
       "      <td>58</td>\n",
       "      <td>[{'given': 'А.Г.', 'family': 'Михайловский', '...</td>\n",
       "      <td>17106.0</td>\n",
       "      <td>NaN</td>\n",
       "      <td>Журнал органической химии</td>\n",
       "      <td>NaN</td>\n",
       "      <td>NaN</td>\n",
       "      <td>2022-01-06</td>\n",
       "      <td>{'primary': {'URL': 'https://www.elibrary.ru/i...</td>\n",
       "      <td>{'date-parts': [[2022, 1]]}</td>\n",
       "      <td>0</td>\n",
       "      <td>{'issue': '1', 'published-online': {'date-part...</td>\n",
       "      <td>http://dx.doi.org/10.31857/s0514749222010086</td>\n",
       "      <td>None</td>\n",
       "      <td>NaN</td>\n",
       "      <td>NaN</td>\n",
       "      <td>NaN</td>\n",
       "      <td>NaN</td>\n",
       "      <td>NaN</td>\n",
       "      <td>NaN</td>\n",
       "      <td>0.0</td>\n",
       "      <td>1.0</td>\n",
       "      <td>1.0</td>\n",
       "      <td>NaN</td>\n",
       "    </tr>\n",
       "    <tr>\n",
       "      <th>436</th>\n",
       "      <td>440</td>\n",
       "      <td>2022-04-11</td>\n",
       "      <td>Publishing House Helvetica (Publications)</td>\n",
       "      <td>{'domain': [], 'crossmark-restriction': False}</td>\n",
       "      <td>Право.ua</td>\n",
       "      <td>10.32782/law.ua.2021.1.24</td>\n",
       "      <td>2022-04-11</td>\n",
       "      <td>0</td>\n",
       "      <td>ІСТОРИКО-ПРАВОВІ ЗАСАДИ ФОРМУВАННЯ ДОКТРИНИ АМ...</td>\n",
       "      <td>10.32782</td>\n",
       "      <td>NaN</td>\n",
       "      <td>[{'given': 'Р.Г.', 'family': 'ГУЛУЄВ', 'sequen...</td>\n",
       "      <td>17914.0</td>\n",
       "      <td>NaN</td>\n",
       "      <td>Право.ua</td>\n",
       "      <td>NaN</td>\n",
       "      <td>NaN</td>\n",
       "      <td>2022-04-11</td>\n",
       "      <td>{'primary': {'URL': 'http://pravo.unesco-socio...</td>\n",
       "      <td>{'date-parts': [[2021]]}</td>\n",
       "      <td>0</td>\n",
       "      <td>{'issue': '1', 'published-online': {'date-part...</td>\n",
       "      <td>http://dx.doi.org/10.32782/law.ua.2021.1.24</td>\n",
       "      <td>None</td>\n",
       "      <td>NaN</td>\n",
       "      <td>NaN</td>\n",
       "      <td>NaN</td>\n",
       "      <td>NaN</td>\n",
       "      <td>NaN</td>\n",
       "      <td>NaN</td>\n",
       "      <td>0.0</td>\n",
       "      <td>1.0</td>\n",
       "      <td>0.0</td>\n",
       "      <td>1.0</td>\n",
       "    </tr>\n",
       "  </tbody>\n",
       "</table>\n",
       "</div>"
      ],
      "text/plain": [
       "     Index    indexed  ... author_institutions author_characters\n",
       "80      81 2022-04-03  ...                 0.0               0.0\n",
       "212    215 2022-04-06  ...                 0.0               1.0\n",
       "299    303 2022-04-03  ...                 1.0               NaN\n",
       "429    433 2022-04-06  ...                 1.0               NaN\n",
       "436    440 2022-04-11  ...                 0.0               1.0\n",
       "\n",
       "[5 rows x 34 columns]"
      ]
     },
     "execution_count": 20,
     "metadata": {},
     "output_type": "execute_result"
    }
   ],
   "source": [
    "records_with_multiple.head()"
   ]
  },
  {
   "cell_type": "code",
   "execution_count": 21,
   "id": "3ef8ea1a",
   "metadata": {},
   "outputs": [
    {
     "data": {
      "text/plain": [
       "Hans Publishers                                                     56\n",
       "Georg Thieme Verlag KG                                              47\n",
       "Science China Press., Co. Ltd.                                      38\n",
       "Wiley                                                               22\n",
       "National Academy of Sciences of Ukraine (Co. LTD Ukrinformnauka)    18\n",
       "                                                                    ..\n",
       "Kyiv Politechnic Institute                                           1\n",
       "American Meteorological Society                                      1\n",
       "Belarusian-Russian University                                        1\n",
       "Publishing House Ophthalmology                                       1\n",
       "Gruppo Italiano Frattura                                             1\n",
       "Name: publisher, Length: 341, dtype: int64"
      ]
     },
     "execution_count": 21,
     "metadata": {},
     "output_type": "execute_result"
    }
   ],
   "source": [
    "records_with_multiple.publisher.value_counts() \n",
    "#Getting a sense of if specific publishers are more more likely to have multiple author realted errors"
   ]
  },
  {
   "cell_type": "code",
   "execution_count": 22,
   "id": "7f3c46ca",
   "metadata": {},
   "outputs": [],
   "source": [
    "publisher_df = df.groupby(['publisher']).agg({'author_initials': ['sum'], 'author_institutions': ['sum'], 'author_sequence': ['sum'],\n",
    "                                             'author_characters': ['sum']})"
   ]
  },
  {
   "cell_type": "code",
   "execution_count": 23,
   "id": "d1a1fb73",
   "metadata": {},
   "outputs": [
    {
     "data": {
      "text/html": [
       "<div>\n",
       "<style scoped>\n",
       "    .dataframe tbody tr th:only-of-type {\n",
       "        vertical-align: middle;\n",
       "    }\n",
       "\n",
       "    .dataframe tbody tr th {\n",
       "        vertical-align: top;\n",
       "    }\n",
       "\n",
       "    .dataframe thead tr th {\n",
       "        text-align: left;\n",
       "    }\n",
       "\n",
       "    .dataframe thead tr:last-of-type th {\n",
       "        text-align: right;\n",
       "    }\n",
       "</style>\n",
       "<table border=\"1\" class=\"dataframe\">\n",
       "  <thead>\n",
       "    <tr>\n",
       "      <th></th>\n",
       "      <th>author_initials</th>\n",
       "      <th>author_institutions</th>\n",
       "      <th>author_sequence</th>\n",
       "      <th>author_characters</th>\n",
       "    </tr>\n",
       "    <tr>\n",
       "      <th></th>\n",
       "      <th>sum</th>\n",
       "      <th>sum</th>\n",
       "      <th>sum</th>\n",
       "      <th>sum</th>\n",
       "    </tr>\n",
       "    <tr>\n",
       "      <th>publisher</th>\n",
       "      <th></th>\n",
       "      <th></th>\n",
       "      <th></th>\n",
       "      <th></th>\n",
       "    </tr>\n",
       "  </thead>\n",
       "  <tbody>\n",
       "    <tr>\n",
       "      <th>108 Institute of Clinical Medical and Pharmaceutical Sciences</th>\n",
       "      <td>0.0</td>\n",
       "      <td>0.0</td>\n",
       "      <td>0.0</td>\n",
       "      <td>1.0</td>\n",
       "    </tr>\n",
       "    <tr>\n",
       "      <th>19 Mayis Sosyal Bilimler Dergisi</th>\n",
       "      <td>0.0</td>\n",
       "      <td>0.0</td>\n",
       "      <td>0.0</td>\n",
       "      <td>0.0</td>\n",
       "    </tr>\n",
       "    <tr>\n",
       "      <th>19&amp;20</th>\n",
       "      <td>0.0</td>\n",
       "      <td>0.0</td>\n",
       "      <td>0.0</td>\n",
       "      <td>0.0</td>\n",
       "    </tr>\n",
       "    <tr>\n",
       "      <th>A and V Publications</th>\n",
       "      <td>2.0</td>\n",
       "      <td>0.0</td>\n",
       "      <td>0.0</td>\n",
       "      <td>0.0</td>\n",
       "    </tr>\n",
       "    <tr>\n",
       "      <th>A.B. Bekturov Institute of Chemical Sciences</th>\n",
       "      <td>3.0</td>\n",
       "      <td>3.0</td>\n",
       "      <td>0.0</td>\n",
       "      <td>0.0</td>\n",
       "    </tr>\n",
       "    <tr>\n",
       "      <th>...</th>\n",
       "      <td>...</td>\n",
       "      <td>...</td>\n",
       "      <td>...</td>\n",
       "      <td>...</td>\n",
       "    </tr>\n",
       "    <tr>\n",
       "      <th>sdvig press</th>\n",
       "      <td>0.0</td>\n",
       "      <td>0.0</td>\n",
       "      <td>0.0</td>\n",
       "      <td>0.0</td>\n",
       "    </tr>\n",
       "    <tr>\n",
       "      <th>sub\\urban e.V.</th>\n",
       "      <td>0.0</td>\n",
       "      <td>0.0</td>\n",
       "      <td>0.0</td>\n",
       "      <td>0.0</td>\n",
       "    </tr>\n",
       "    <tr>\n",
       "      <th>w/k - Between Science and Art</th>\n",
       "      <td>1.0</td>\n",
       "      <td>0.0</td>\n",
       "      <td>0.0</td>\n",
       "      <td>0.0</td>\n",
       "    </tr>\n",
       "    <tr>\n",
       "      <th>А. M. Gorky Institute of World Literature of the Russian Academy of Sciences</th>\n",
       "      <td>0.0</td>\n",
       "      <td>1.0</td>\n",
       "      <td>0.0</td>\n",
       "      <td>0.0</td>\n",
       "    </tr>\n",
       "    <tr>\n",
       "      <th>Рlant Production Institute nd. a. V. Ya. Yuryev of NAAS</th>\n",
       "      <td>1.0</td>\n",
       "      <td>0.0</td>\n",
       "      <td>0.0</td>\n",
       "      <td>0.0</td>\n",
       "    </tr>\n",
       "  </tbody>\n",
       "</table>\n",
       "<p>5519 rows × 4 columns</p>\n",
       "</div>"
      ],
      "text/plain": [
       "                                                   author_initials  ... author_characters\n",
       "                                                               sum  ...               sum\n",
       "publisher                                                           ...                  \n",
       "108 Institute of Clinical Medical and Pharmaceu...             0.0  ...               1.0\n",
       "19 Mayis Sosyal Bilimler Dergisi                               0.0  ...               0.0\n",
       "19&20                                                          0.0  ...               0.0\n",
       "A and V Publications                                           2.0  ...               0.0\n",
       "A.B. Bekturov Institute of Chemical Sciences                   3.0  ...               0.0\n",
       "...                                                            ...  ...               ...\n",
       "sdvig press                                                    0.0  ...               0.0\n",
       "sub\\urban e.V.                                                 0.0  ...               0.0\n",
       "w/k - Between Science and Art                                  1.0  ...               0.0\n",
       "А. M. Gorky Institute of World Literature of th...             0.0  ...               0.0\n",
       "Рlant Production Institute nd. a. V. Ya. Yuryev...             1.0  ...               0.0\n",
       "\n",
       "[5519 rows x 4 columns]"
      ]
     },
     "execution_count": 23,
     "metadata": {},
     "output_type": "execute_result"
    }
   ],
   "source": [
    "publisher_df #Checking around at the total number of author related errors by publisher"
   ]
  },
  {
   "cell_type": "code",
   "execution_count": 24,
   "id": "746c4b05",
   "metadata": {},
   "outputs": [
    {
     "data": {
      "text/plain": [
       "author_initials      sum                        Elsevier BV\n",
       "author_institutions  sum    Philosophy Documentation Center\n",
       "author_sequence      sum             Georg Thieme Verlag KG\n",
       "author_characters    sum                              Wiley\n",
       "dtype: object"
      ]
     },
     "execution_count": 24,
     "metadata": {},
     "output_type": "execute_result"
    }
   ],
   "source": [
    "publisher_df.idxmax() #Which publishers have the most errors per error category"
   ]
  },
  {
   "cell_type": "code",
   "execution_count": 25,
   "id": "0989a40e",
   "metadata": {},
   "outputs": [
    {
     "data": {
      "text/plain": [
       "author_initials      sum    5204.0\n",
       "author_institutions  sum     130.0\n",
       "author_sequence      sum     174.0\n",
       "author_characters    sum     205.0\n",
       "dtype: float64"
      ]
     },
     "execution_count": 25,
     "metadata": {},
     "output_type": "execute_result"
    }
   ],
   "source": [
    "publisher_df.max() \n",
    "#specific values of those publishers, although the 'author_sequence' one needs to be reworked because \n",
    "# a sum isn't quite an accurate measure as it isn't a simple binary. any occurences of '2' will skew\n",
    "# it. It's on the list of things to address."
   ]
  },
  {
   "cell_type": "code",
   "execution_count": 26,
   "id": "24be9695",
   "metadata": {},
   "outputs": [],
   "source": [
    "df.to_csv(output_dir / '03_author_issues_labeled.csv')"
   ]
  },
  {
   "cell_type": "code",
   "execution_count": null,
   "id": "ac95fdd5",
   "metadata": {},
   "outputs": [],
   "source": []
  }
 ],
 "metadata": {
  "kernelspec": {
   "display_name": "Python 3 (Spyder)",
   "language": "python3",
   "name": "python3"
  },
  "language_info": {
   "codemirror_mode": {
    "name": "ipython",
    "version": 3
   },
   "file_extension": ".py",
   "mimetype": "text/x-python",
   "name": "python",
   "nbconvert_exporter": "python",
   "pygments_lexer": "ipython3",
   "version": "3.8.13"
  }
 },
 "nbformat": 4,
 "nbformat_minor": 5
}
