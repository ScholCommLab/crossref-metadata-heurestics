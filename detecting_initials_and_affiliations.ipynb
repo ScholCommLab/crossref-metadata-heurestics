{
 "cells": [
  {
   "cell_type": "markdown",
   "id": "dfc74e73",
   "metadata": {},
   "source": [
    "# Detecting Initials and Affiliations\n",
    "\n",
    "Many high priority issues focused on the ways in which information about the author is entered into the record. In this script, we will detect a few of those issue such as the use of initials and listing affiliations as authors. We'll be using a sample of 1300 records from Crossref.\n",
    "\n",
    "First, we'll import our libraries and set up our generator and dataframes."
   ]
  },
  {
   "cell_type": "code",
   "execution_count": 2,
   "id": "11f65563",
   "metadata": {},
   "outputs": [],
   "source": [
    "import re\n",
    "import pandas as pd\n",
    "import json\n",
    "import numpy as np\n",
    "\n",
    "def gen(file_name):\n",
    "    with open(file_name, 'r') as fh:\n",
    "        for record in json.load(fh):\n",
    "            yield record\n",
    "# Set up dataframe for holding detected errors\n",
    "df = pd.DataFrame(columns=['DOI', 'issue'])\n",
    "# DataFrame to hold non-article types that commonly do not have authors\n",
    "alt_df = pd.DataFrame(columns=['DOI', 'type'])\n",
    "data = gen('bigger_sample.json')"
   ]
  },
  {
   "cell_type": "markdown",
   "id": "ed870883",
   "metadata": {},
   "source": [
    "Now we'll iterate through the records and label the issue appropriately."
   ]
  },
  {
   "cell_type": "code",
   "execution_count": 3,
   "id": "f21bebe0",
   "metadata": {},
   "outputs": [],
   "source": [
    "for record in data:\n",
    "    message = record['message']\n",
    "    doi = message['DOI']\n",
    "    try:\n",
    "        authorList = message['author']\n",
    "        for x in authorList:\n",
    "            try:\n",
    "                # Regular expression to detect the use of initials\n",
    "                detector = re.match(r\"^(?:[A-Z]\\W{,3}\\s?){,3}$\", x['given'])\n",
    "                if  detector != None or len(x['given']) < 2:\n",
    "                    df.loc[len(df)] = (doi, 'given name initials')\n",
    "                else:\n",
    "                    last_detect = re.match(r\"^(?:[A-Z]\\.?\\s?)?$\", x['family'])\n",
    "                    if last_detect != None:\n",
    "                        df.loc[len(df)] = (doi, 'last name initials')\n",
    "            except:\n",
    "                for key in x:\n",
    "                    # When affiliations are presented as an author\n",
    "                    # almost exclusively it is done so with the \n",
    "                    # field 'name' which breaks the convention\n",
    "                    # for authors 'given' and 'family'\n",
    "                    if key == 'name':\n",
    "                        df.loc[len(df)] = (doi, 'institution as author')\n",
    "    except:\n",
    "        if message['type'] == 'journal-article':\n",
    "            df.loc[len(df)] = (doi, 'no authors')\n",
    "        else:\n",
    "            alt_df.loc[len(alt_df)] = (doi, message['type'])"
   ]
  },
  {
   "cell_type": "markdown",
   "id": "c02c2540",
   "metadata": {},
   "source": [
    "Let's take a look at the outcome:"
   ]
  },
  {
   "cell_type": "code",
   "execution_count": 4,
   "id": "36c9f28c",
   "metadata": {},
   "outputs": [
    {
     "data": {
      "text/plain": [
       "(949, 2)"
      ]
     },
     "execution_count": 4,
     "metadata": {},
     "output_type": "execute_result"
    }
   ],
   "source": [
    "df.shape"
   ]
  },
  {
   "cell_type": "code",
   "execution_count": 5,
   "id": "524880c3",
   "metadata": {},
   "outputs": [
    {
     "data": {
      "text/plain": [
       "(182, 2)"
      ]
     },
     "execution_count": 5,
     "metadata": {},
     "output_type": "execute_result"
    }
   ],
   "source": [
    "alt_df.shape"
   ]
  },
  {
   "cell_type": "markdown",
   "id": "532747d5",
   "metadata": {},
   "source": [
    "There's an issue with 949 author entries."
   ]
  },
  {
   "cell_type": "code",
   "execution_count": 6,
   "id": "f79ba07f",
   "metadata": {},
   "outputs": [
    {
     "data": {
      "text/plain": [
       "384"
      ]
     },
     "execution_count": 6,
     "metadata": {},
     "output_type": "execute_result"
    }
   ],
   "source": [
    "len(set(df['DOI']))"
   ]
  },
  {
   "cell_type": "markdown",
   "id": "0f0edb5a",
   "metadata": {},
   "source": [
    "384 articles out of 889 articles have issues with the entry of the author names."
   ]
  },
  {
   "cell_type": "code",
   "execution_count": 7,
   "id": "0b5e581e",
   "metadata": {},
   "outputs": [
    {
     "data": {
      "text/plain": [
       "issue\n",
       "given name initials      819\n",
       "no authors                84\n",
       "institution as author     42\n",
       "last name initials         4\n",
       "dtype: int64"
      ]
     },
     "execution_count": 7,
     "metadata": {},
     "output_type": "execute_result"
    }
   ],
   "source": [
    "df.value_counts(subset=df['issue'])"
   ]
  },
  {
   "cell_type": "code",
   "execution_count": 8,
   "id": "3a76909c",
   "metadata": {},
   "outputs": [
    {
     "data": {
      "text/html": [
       "<div>\n",
       "<style scoped>\n",
       "    .dataframe tbody tr th:only-of-type {\n",
       "        vertical-align: middle;\n",
       "    }\n",
       "\n",
       "    .dataframe tbody tr th {\n",
       "        vertical-align: top;\n",
       "    }\n",
       "\n",
       "    .dataframe thead th {\n",
       "        text-align: right;\n",
       "    }\n",
       "</style>\n",
       "<table border=\"1\" class=\"dataframe\">\n",
       "  <thead>\n",
       "    <tr style=\"text-align: right;\">\n",
       "      <th></th>\n",
       "      <th>DOI</th>\n",
       "      <th>issue</th>\n",
       "    </tr>\n",
       "  </thead>\n",
       "  <tbody>\n",
       "    <tr>\n",
       "      <th>0</th>\n",
       "      <td>10.5840/philstudies19577039</td>\n",
       "      <td>institution as author</td>\n",
       "    </tr>\n",
       "    <tr>\n",
       "      <th>1</th>\n",
       "      <td>10.1016/j.euje.2006.04.001</td>\n",
       "      <td>given name initials</td>\n",
       "    </tr>\n",
       "    <tr>\n",
       "      <th>2</th>\n",
       "      <td>10.1016/j.euje.2006.04.001</td>\n",
       "      <td>given name initials</td>\n",
       "    </tr>\n",
       "    <tr>\n",
       "      <th>3</th>\n",
       "      <td>10.1016/0040-6090(88)90303-3</td>\n",
       "      <td>given name initials</td>\n",
       "    </tr>\n",
       "    <tr>\n",
       "      <th>4</th>\n",
       "      <td>10.1016/0040-6090(88)90303-3</td>\n",
       "      <td>given name initials</td>\n",
       "    </tr>\n",
       "  </tbody>\n",
       "</table>\n",
       "</div>"
      ],
      "text/plain": [
       "                            DOI                  issue\n",
       "0   10.5840/philstudies19577039  institution as author\n",
       "1    10.1016/j.euje.2006.04.001    given name initials\n",
       "2    10.1016/j.euje.2006.04.001    given name initials\n",
       "3  10.1016/0040-6090(88)90303-3    given name initials\n",
       "4  10.1016/0040-6090(88)90303-3    given name initials"
      ]
     },
     "execution_count": 8,
     "metadata": {},
     "output_type": "execute_result"
    }
   ],
   "source": [
    "df.head(5)"
   ]
  },
  {
   "cell_type": "markdown",
   "id": "31c6e6f7",
   "metadata": {},
   "source": [
    "Let's take a look at these 3 records.\n",
    "\n",
    "http://api.crossref.org/works/10.5840/philstudies19577039\n",
    "\n",
    "http://api.crossref.org/works/10.1016/j.euje.2006.04.001\n",
    "\n",
    "http://api.crossref.org/works/10.1016/0040-6090(88)90303-3\n",
    "\n",
    "After checking each record, we see that they do indeed have the issues detected."
   ]
  }
 ],
 "metadata": {
  "kernelspec": {
   "display_name": "Python 3 (ipykernel)",
   "language": "python",
   "name": "python3"
  },
  "language_info": {
   "codemirror_mode": {
    "name": "ipython",
    "version": 3
   },
   "file_extension": ".py",
   "mimetype": "text/x-python",
   "name": "python",
   "nbconvert_exporter": "python",
   "pygments_lexer": "ipython3",
   "version": "3.8.13"
  }
 },
 "nbformat": 4,
 "nbformat_minor": 5
}
